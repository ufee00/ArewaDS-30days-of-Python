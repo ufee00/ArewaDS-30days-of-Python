{
 "cells": [
  {
   "cell_type": "markdown",
   "metadata": {},
   "source": [
    "# Web Scraping\n",
    "# Day 22: 30DaysOfPython Challenge"
   ]
  },
  {
   "cell_type": "markdown",
   "metadata": {},
   "source": [
    "### 💻 Exercises: Day 22"
   ]
  },
  {
   "cell_type": "code",
   "execution_count": 5,
   "metadata": {},
   "outputs": [
    {
     "name": "stdout",
     "output_type": "stream",
     "text": [
      "Data has been scraped and stored as \"scraped_data.json\".\n"
     ]
    }
   ],
   "source": [
    "# Scrape the following website and store the data as json file(url = 'http://www.bu.edu/president/boston-university-facts-stats/').\n",
    "import requests\n",
    "import json\n",
    "from bs4 import BeautifulSoup\n",
    "\n",
    "url = 'http://www.bu.edu/president/boston-university-facts-stats/'\n",
    "response = requests.get(url)\n",
    "\n",
    "if response.status_code == 200:\n",
    "    content = response.content\n",
    "    soup = BeautifulSoup(content, 'html.parser')\n",
    "\n",
    "    # Identifying the HTML elements containing the information we need\n",
    "    # Example: Extracting paragraphs from the body\n",
    "    paragraphs = soup.find_all('p')\n",
    "\n",
    "    # Creating a dictionary to store the extracted data\n",
    "    data = {'paragraphs': [paragraph.get_text() for paragraph in paragraphs]}\n",
    "\n",
    "    # Converting the data to JSON\n",
    "    json_data = json.dumps(data, indent=2)\n",
    "\n",
    "    # Saving the JSON data to a file\n",
    "    with open('scraped_data.json', 'w') as json_file:\n",
    "        json_file.write(json_data)\n",
    "\n",
    "    print('Data has been scraped and stored as \"scraped_data.json\".')\n",
    "else:\n",
    "    print('Failed to retrieve the webpage. Status code:', response.status_code)"
   ]
  },
  {
   "cell_type": "code",
   "execution_count": 6,
   "metadata": {},
   "outputs": [
    {
     "name": "stdout",
     "output_type": "stream",
     "text": [
      "Failed to retrieve the webpage. Status code: 404\n"
     ]
    }
   ],
   "source": [
    "# Extract the table in this url (https://archive.ics.uci.edu/ml/datasets.php) and change it to a json file\n",
    "\n",
    "table_url = 'https://archive.ics.uci.edu/ml/datasets.php'\n",
    "table_response = requests.get(table_url)\n",
    "\n",
    "if table_response.status_code == 200:\n",
    "    table_soup = BeautifulSoup(table_response.content, 'html.parser')\n",
    "\n",
    "    # Finding the table with cellpadding attribute equal to 3\n",
    "    target_table = table_soup.find('table', {'cellpadding': '3'})\n",
    "\n",
    "    if target_table:\n",
    "        # Extract the data from the table\n",
    "        table_data = []\n",
    "        for row in target_table.find_all('tr'):\n",
    "            row_data = [cell.get_text(strip=True) for cell in row.find_all(['th', 'td'])]\n",
    "            table_data.append(row_data)\n",
    "\n",
    "        # Converting the data to JSON\n",
    "        json_data = json.dumps(table_data, indent=2)\n",
    "\n",
    "        # Saving the JSON data to a file\n",
    "        with open('table_data.json', 'w') as json_file:\n",
    "            json_file.write(json_data)\n",
    "\n",
    "        print('Table data has been extracted and stored as \"table_data.json\".')\n",
    "    else:\n",
    "        print('No table found on the webpage.')\n",
    "else:\n",
    "    print('Failed to retrieve the webpage. Status code:', table_response.status_code)"
   ]
  },
  {
   "cell_type": "code",
   "execution_count": 7,
   "metadata": {},
   "outputs": [
    {
     "name": "stdout",
     "output_type": "stream",
     "text": [
      "Presidents table data has been extracted and stored as \"presidents_data.json\".\n"
     ]
    }
   ],
   "source": [
    "# Scrape the presidents table and store the data as json(https://en.wikipedia.org/wiki/List_of_presidents_of_the_United_States).\n",
    "# The table is not very structured and the scrapping may take very long time.\n",
    "\n",
    "url = 'https://en.wikipedia.org/wiki/List_of_presidents_of_the_United_States'\n",
    "response = requests.get(url)\n",
    "\n",
    "if response.status_code == 200:\n",
    "    soup = BeautifulSoup(response.content, 'html.parser')\n",
    "\n",
    "    # Find the table containing the list of presidents\n",
    "    presidents_table = soup.find('table', {'class': 'wikitable'})\n",
    "\n",
    "    if presidents_table:\n",
    "        # Extract table data\n",
    "        table_data = []\n",
    "        headers = [header.get_text(strip=True) for header in presidents_table.find_all('th')]\n",
    "        table_data.append(headers)\n",
    "\n",
    "        for row in presidents_table.find_all('tr')[1:]:\n",
    "            row_data = [cell.get_text(strip=True) for cell in row.find_all(['th', 'td'])]\n",
    "            table_data.append(row_data)\n",
    "\n",
    "        # Converting the data to JSON\n",
    "        json_data = json.dumps(table_data, indent=2)\n",
    "\n",
    "        # Saving the JSON data to a file\n",
    "        with open('presidents_data.json', 'w') as json_file:\n",
    "            json_file.write(json_data)\n",
    "\n",
    "        print('Presidents table data has been extracted and stored as \"presidents_data.json\".')\n",
    "    else:\n",
    "        print('No presidents table found on the webpage.')\n",
    "else:\n",
    "    print('Failed to retrieve the webpage. Status code:', response.status_code)"
   ]
  }
 ],
 "metadata": {
  "kernelspec": {
   "display_name": "Python 3",
   "language": "python",
   "name": "python3"
  },
  "language_info": {
   "codemirror_mode": {
    "name": "ipython",
    "version": 3
   },
   "file_extension": ".py",
   "mimetype": "text/x-python",
   "name": "python",
   "nbconvert_exporter": "python",
   "pygments_lexer": "ipython3",
   "version": "3.10.6"
  }
 },
 "nbformat": 4,
 "nbformat_minor": 2
}
