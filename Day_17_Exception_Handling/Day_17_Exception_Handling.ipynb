{
 "cells": [
  {
   "cell_type": "markdown",
   "metadata": {},
   "source": [
    "# Exception Handling\n",
    "# Day 17: 30DaysOfPython Challenge"
   ]
  },
  {
   "cell_type": "code",
   "execution_count": 4,
   "metadata": {},
   "outputs": [
    {
     "name": "stdout",
     "output_type": "stream",
     "text": [
      "Nordic Countries: ['Finland', 'Sweden', 'Norway', 'Denmark', 'Iceland']\n",
      "ES Countries: Estonia\n",
      "RU Countries: Russia\n"
     ]
    }
   ],
   "source": [
    "# names = ['Finland', 'Sweden', 'Norway','Denmark','Iceland', 'Estonia','Russia'].\n",
    "# Unpack the first five countries and store them in a variable nordic_countries,\n",
    "# store Estonia and Russia in es, and ru respectively.\n",
    "\n",
    "names = ['Finland', 'Sweden', 'Norway','Denmark','Iceland', 'Estonia','Russia']\n",
    "*nordic_countries, es, ru = names\n",
    "\n",
    "print(f'Nordic Countries: {nordic_countries}\\nES Countries: {es}\\nRU Countries: {ru}') "
   ]
  }
 ],
 "metadata": {
  "kernelspec": {
   "display_name": "Python 3",
   "language": "python",
   "name": "python3"
  },
  "language_info": {
   "codemirror_mode": {
    "name": "ipython",
    "version": 3
   },
   "file_extension": ".py",
   "mimetype": "text/x-python",
   "name": "python",
   "nbconvert_exporter": "python",
   "pygments_lexer": "ipython3",
   "version": "3.10.6"
  }
 },
 "nbformat": 4,
 "nbformat_minor": 2
}
