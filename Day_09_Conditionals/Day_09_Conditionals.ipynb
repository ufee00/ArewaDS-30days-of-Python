{
 "cells": [
  {
   "cell_type": "markdown",
   "metadata": {},
   "source": [
    "# Conditionals\n",
    "# Day 9: 30DaysOfPython Challenge"
   ]
  },
  {
   "cell_type": "markdown",
   "metadata": {},
   "source": [
    "### Exercises: Level 1"
   ]
  },
  {
   "cell_type": "code",
   "execution_count": 1,
   "metadata": {},
   "outputs": [
    {
     "name": "stdout",
     "output_type": "stream",
     "text": [
      "You need 3 more years to drive\n"
     ]
    }
   ],
   "source": [
    "# Get user input using input(“Enter your age: ”). If user is 18 or older, give feedback: You are old enough to drive. If below 18 give feedback to wait for the missing amount of years\n",
    "age = int(input('Enter your age: '))\n",
    "if age >= 18:\n",
    "    print('You are old enough to drive')\n",
    "else:\n",
    "    print(f'You need {18-age} more years to drive')"
   ]
  },
  {
   "cell_type": "code",
   "execution_count": 10,
   "metadata": {},
   "outputs": [
    {
     "name": "stdout",
     "output_type": "stream",
     "text": [
      "You are 5 years older than me.\n"
     ]
    }
   ],
   "source": [
    "# Compare the values of my_age and your_age using if … else. Who is older (me or you)? Use input(“Enter your age: ”) to get the age as input. You can use a nested condition to print 'year' for 1 year difference in age, 'years' for bigger differences, and a custom text if my_age = your_age.\n",
    "my_age = 25\n",
    "your_age = int(input('Enter your age: '))\n",
    "age_diff = your_age - my_age\n",
    "if my_age == your_age:\n",
    "    print('We are of the same age, which is ', my_age)\n",
    "elif age_diff == 1:\n",
    "    print(f'You are {age_diff} year older than me.')\n",
    "elif age_diff > 1:\n",
    "    print(f'You are {age_diff} years older than me.')\n",
    "else:\n",
    "    print('I am older than you')"
   ]
  },
  {
   "cell_type": "code",
   "execution_count": 14,
   "metadata": {},
   "outputs": [
    {
     "name": "stdout",
     "output_type": "stream",
     "text": [
      "4 is greater than 3\n"
     ]
    }
   ],
   "source": [
    "# Get two numbers from the user using input prompt. If a is greater than b return a is greater than b, if a is less b return a is smaller than b, else a is equal to b.\n",
    "a = int(input('Enter first number: '))\n",
    "b = int(input('Enter second number: '))\n",
    "if a > b:\n",
    "    print(f'{a} is greater than {b}')\n",
    "elif a < b:\n",
    "    print(f'{a} is smaller than {b}')\n",
    "else:\n",
    "    print(f'{a} is equal to {b}')"
   ]
  },
  {
   "cell_type": "markdown",
   "metadata": {},
   "source": [
    "### Exercises: Level 2"
   ]
  },
  {
   "cell_type": "code",
   "execution_count": 19,
   "metadata": {},
   "outputs": [
    {
     "name": "stdout",
     "output_type": "stream",
     "text": [
      "Your grade is A\n"
     ]
    }
   ],
   "source": [
    "\"\"\"\n",
    "Write a code which gives grade to students according to theirs scores:\n",
    "\n",
    "80-100, A\n",
    "70-89, B\n",
    "60-69, C\n",
    "50-59, D\n",
    "0-49, F\n",
    "\"\"\"\n",
    "score = float(input('Enter a student score: '))\n",
    "if score >= 80:\n",
    "    print('Your grade is A')\n",
    "elif score >= 70:\n",
    "    print('Your grade is B')\n",
    "elif score >= 60:\n",
    "    print('Your grade is C')\n",
    "elif score >= 50:\n",
    "    print('Your grade is D')\n",
    "else:\n",
    "    print('Your grade is F')"
   ]
  },
  {
   "cell_type": "code",
   "execution_count": 38,
   "metadata": {},
   "outputs": [
    {
     "name": "stdout",
     "output_type": "stream",
     "text": [
      "The season is Winter\n"
     ]
    }
   ],
   "source": [
    "\"\"\"\n",
    "Check if the season is Autumn, Winter, Spring or Summer.\n",
    "If the user input is: September, October or November, the season is Autumn.\n",
    "December, January or February, the season is Winter.\n",
    "March, April or May, the season is Spring.\n",
    "June, July or August, the season is Summer.\n",
    "\"\"\"\n",
    "season = input('Enter a month: ').title()\n",
    "if season == 'September' or season == 'October' or season == 'November':\n",
    "    print('The season is Autumn')\n",
    "elif season == 'December' or season == 'January' or season == 'February':\n",
    "    print('The season is Winter')\n",
    "elif season == 'March' or season == 'April' or season == 'May':\n",
    "    print('The season is Spring')\n",
    "elif season == 'June' or season == 'July' or season == 'August':\n",
    "    print('The season is Summer')\n",
    "else:\n",
    "    print('Invalid month')"
   ]
  },
  {
   "cell_type": "code",
   "execution_count": 41,
   "metadata": {},
   "outputs": [
    {
     "name": "stdout",
     "output_type": "stream",
     "text": [
      "Modified list is:  ['banana', 'orange', 'mango', 'lemon', 'apple']\n"
     ]
    }
   ],
   "source": [
    "\"\"\"\n",
    "The following list contains some fruits:\n",
    "\n",
    "fruits = ['banana', 'orange', 'mango', 'lemon']\n",
    "If a fruit doesn't exist in the list add the fruit to the list and print the modified list.\n",
    "If the fruit exists print('That fruit already exist in the list')\n",
    "\"\"\"\n",
    "fruits = ['banana', 'orange', 'mango', 'lemon']\n",
    "fruit = input('Enter a fruit').lower()\n",
    "if fruit in fruits:\n",
    "    print('That fruit already exist in the list')\n",
    "else:\n",
    "    fruits.append(fruit)\n",
    "    print('Modified list is: ',fruits)"
   ]
  },
  {
   "cell_type": "markdown",
   "metadata": {},
   "source": [
    "### Exercises: Level 3\n"
   ]
  },
  {
   "cell_type": "code",
   "execution_count": 51,
   "metadata": {},
   "outputs": [
    {
     "name": "stdout",
     "output_type": "stream",
     "text": [
      "The middle skill is Node\n",
      "['JavaScript', 'React', 'Node', 'MongoDB', 'Python']\n",
      "He is a front end developer\n",
      "He is a backend developer\n",
      "He is a fullstack developer\n",
      "Asabeneh Yetayeh lives in Finland. He is married.\n"
     ]
    }
   ],
   "source": [
    "\"\"\" \n",
    "* Check if the person dictionary has skills key, if so print out the middle skill in the skills list.\n",
    "* Check if the person dictionary has skills key, if so check if the person has 'Python' skill and print out the result.\n",
    "* If a person skills has only JavaScript and React, print('He is a front end developer'), if the person skills has Node, Python, MongoDB, print('He is a backend developer'), if the person skills has React, Node and MongoDB, Print('He is a fullstack developer'), else print('unknown title') - for more accurate results more conditions can be nested!\n",
    "* If the person is married and if he lives in Finland, print the information in the following format:\n",
    "        Asabeneh Yetayeh lives in Finland. He is married.\n",
    "\"\"\"\n",
    "person={\n",
    "    'first_name': 'Asabeneh',\n",
    "    'last_name': 'Yetayeh',\n",
    "    'age': 250,\n",
    "    'country': 'Finland',\n",
    "    'is_marred': True,\n",
    "    'skills': ['JavaScript', 'React', 'Node', 'MongoDB', 'Python'],\n",
    "    'address': {\n",
    "        'street': 'Space street',\n",
    "        'zipcode': '02210'\n",
    "        }\n",
    "    }\n",
    "if 'skills' in person:\n",
    "    print(f'The middle skill is {person[\"skills\"][2]}')\n",
    "    if 'Python' in person[\"skills\"]:\n",
    "        print(person[\"skills\"])\n",
    "    if 'JavaScript' and 'React' in person[\"skills\"]:\n",
    "        print('He is a front end developer')\n",
    "    if 'Node' and 'Python' and 'MongoDB' in person[\"skills\"]:\n",
    "        print('He is a backend developer')\n",
    "    if 'React' 'Node' and 'MongoDB' in person[\"skills\"]:\n",
    "        print('He is a fullstack developer')\n",
    "    else:\n",
    "        print('unknown title')\n",
    "if person['is_marred']==True and person['country']=='Finland':\n",
    "        print('Asabeneh Yetayeh lives in Finland. He is married.')"
   ]
  }
 ],
 "metadata": {
  "kernelspec": {
   "display_name": "Python 3",
   "language": "python",
   "name": "python3"
  },
  "language_info": {
   "codemirror_mode": {
    "name": "ipython",
    "version": 3
   },
   "file_extension": ".py",
   "mimetype": "text/x-python",
   "name": "python",
   "nbconvert_exporter": "python",
   "pygments_lexer": "ipython3",
   "version": "3.10.6"
  }
 },
 "nbformat": 4,
 "nbformat_minor": 2
}
