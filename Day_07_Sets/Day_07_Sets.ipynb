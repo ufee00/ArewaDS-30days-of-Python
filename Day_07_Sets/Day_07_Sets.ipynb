{
 "cells": [
  {
   "cell_type": "markdown",
   "metadata": {},
   "source": [
    "# Sets\n",
    "# Day 7: 30DaysOfPython Challenge"
   ]
  },
  {
   "cell_type": "markdown",
   "metadata": {},
   "source": [
    "### Exercises: Level 1"
   ]
  },
  {
   "cell_type": "code",
   "execution_count": 9,
   "metadata": {},
   "outputs": [],
   "source": [
    "# sets\n",
    "it_companies = {'Facebook', 'Google', 'Microsoft', 'Apple', 'IBM', 'Oracle', 'Amazon'}\n",
    "A = {19, 22, 24, 20, 25, 26}\n",
    "B = {19, 22, 20, 25, 26, 24, 28, 27}\n",
    "age = [22, 19, 24, 25, 26, 24, 25, 24]"
   ]
  },
  {
   "cell_type": "code",
   "execution_count": 10,
   "metadata": {},
   "outputs": [
    {
     "name": "stdout",
     "output_type": "stream",
     "text": [
      "7\n"
     ]
    }
   ],
   "source": [
    "# Find the length of the set it_companies\n",
    "print(len(it_companies))"
   ]
  },
  {
   "cell_type": "code",
   "execution_count": 11,
   "metadata": {},
   "outputs": [
    {
     "name": "stdout",
     "output_type": "stream",
     "text": [
      "{'Apple', 'Oracle', 'Google', 'IBM', 'Amazon', 'Facebook', 'Microsoft', 'Twitter'}\n"
     ]
    }
   ],
   "source": [
    "# Add 'Twitter' to it_companies\n",
    "it_companies.add('Twitter')\n",
    "print(it_companies)"
   ]
  },
  {
   "cell_type": "code",
   "execution_count": 12,
   "metadata": {},
   "outputs": [
    {
     "name": "stdout",
     "output_type": "stream",
     "text": [
      "{'IBM', 'Twitter', 'Microsoft', 'Apple', 'Google', 'Galaxy Tech', 'Facebook', 'Oracle', 'Amazon', 'Flutter', 'Android'}\n"
     ]
    }
   ],
   "source": [
    "# Insert multiple IT companies at once to the set it_companies\n",
    "it_companies.update(['Galaxy Tech', 'Android', 'Flutter'])\n",
    "print(it_companies)"
   ]
  },
  {
   "cell_type": "code",
   "execution_count": 14,
   "metadata": {},
   "outputs": [],
   "source": [
    "# Remove one of the companies from the set it_companies\n",
    "it_companies.remove('IBM')"
   ]
  },
  {
   "cell_type": "code",
   "execution_count": 15,
   "metadata": {},
   "outputs": [],
   "source": [
    "# What is the difference between remove and discard\n",
    "\n",
    "# Remove method raise an error if an item that is going to be removed is not present in the set,\n",
    "# WHILE\n",
    "# Discard method does not raise an error even if an item that is going to be removed is not present in the set\n"
   ]
  },
  {
   "cell_type": "markdown",
   "metadata": {},
   "source": [
    "### Exercises: Level 2"
   ]
  },
  {
   "cell_type": "code",
   "execution_count": 18,
   "metadata": {},
   "outputs": [
    {
     "name": "stdout",
     "output_type": "stream",
     "text": [
      "{19, 20, 22, 24, 25, 26, 27, 28}\n"
     ]
    }
   ],
   "source": [
    "# Join A and B which are already defind above\n",
    "A_Union_B = A.union(B)\n",
    "print(A_Union_B)"
   ]
  },
  {
   "cell_type": "code",
   "execution_count": 19,
   "metadata": {},
   "outputs": [
    {
     "name": "stdout",
     "output_type": "stream",
     "text": [
      "{19, 20, 22, 24, 25, 26}\n"
     ]
    }
   ],
   "source": [
    "# Find A intersection B\n",
    "A_intersection_B = A.intersection(B)\n",
    "print(A_intersection_B)"
   ]
  },
  {
   "cell_type": "code",
   "execution_count": 20,
   "metadata": {},
   "outputs": [
    {
     "name": "stdout",
     "output_type": "stream",
     "text": [
      "Is A subset of B:  True\n"
     ]
    }
   ],
   "source": [
    "# Is A subset of B\n",
    "print('Is A subset of B: ', A.issubset(B))"
   ]
  },
  {
   "cell_type": "code",
   "execution_count": 21,
   "metadata": {},
   "outputs": [
    {
     "name": "stdout",
     "output_type": "stream",
     "text": [
      "Are A and B disjoint sets:  False\n"
     ]
    }
   ],
   "source": [
    "# Are A and B disjoint sets\n",
    "print('Are A and B disjoint sets: ', A.isdisjoint(B))"
   ]
  },
  {
   "cell_type": "code",
   "execution_count": 22,
   "metadata": {},
   "outputs": [
    {
     "name": "stdout",
     "output_type": "stream",
     "text": [
      "A with B:  {19, 20, 22, 24, 25, 26, 27, 28}\n",
      "B with A:  {19, 20, 22, 24, 25, 26, 27, 28}\n"
     ]
    }
   ],
   "source": [
    "# Join A with B and B with A\n",
    "A_with_B = A.union(B)\n",
    "B_with_A = B.union(A)\n",
    "print('A with B: ', A_with_B)\n",
    "print('B with A: ', B_with_A)"
   ]
  },
  {
   "cell_type": "code",
   "execution_count": 23,
   "metadata": {},
   "outputs": [
    {
     "name": "stdout",
     "output_type": "stream",
     "text": [
      "The symmetric difference between A and B is:  {27, 28}\n"
     ]
    }
   ],
   "source": [
    "# What is the symmetric difference between A and B\n",
    "print('The symmetric difference between A and B is: ', A.symmetric_difference(B))"
   ]
  },
  {
   "cell_type": "code",
   "execution_count": 24,
   "metadata": {},
   "outputs": [],
   "source": [
    "# Delete the sets completely\n",
    "del A, B"
   ]
  },
  {
   "cell_type": "markdown",
   "metadata": {},
   "source": [
    "### Exercises: Level 3"
   ]
  },
  {
   "cell_type": "code",
   "execution_count": 28,
   "metadata": {},
   "outputs": [
    {
     "name": "stdout",
     "output_type": "stream",
     "text": [
      "Comparing the length of the list and the set, which one is bigger?\n",
      "len(set_ages) > len(age):  False\n",
      "Comparing the length of the list and the set, which one is bigger?\n",
      "len(age) > len(set_ages):  True\n"
     ]
    }
   ],
   "source": [
    "# Convert the ages to a set and compare the length of the list and the set, which one is bigger?\n",
    "set_ages = set(age)\n",
    "print('Comparing the length of the list and the set, which one is bigger?\\nlen(set_ages) > len(age): ', len(set_ages) > len(age))\n",
    "print('Comparing the length of the list and the set, which one is bigger?\\nlen(age) > len(set_ages): ', len(age) > len(set_ages))"
   ]
  },
  {
   "cell_type": "code",
   "execution_count": 30,
   "metadata": {},
   "outputs": [
    {
     "name": "stdout",
     "output_type": "stream",
     "text": [
      "[22, 19, 24, 25, 26, 24, 25, 24]\n",
      "{19, 22, 24, 25, 26}\n"
     ]
    }
   ],
   "source": [
    "print(age)\n",
    "\n",
    "print(set_ages)"
   ]
  },
  {
   "cell_type": "code",
   "execution_count": null,
   "metadata": {},
   "outputs": [],
   "source": [
    "# Explain the difference between the following data types: string, list, tuple and set\n",
    "    # A string is a sequence of characters. It is immutable, meaning its contents cannot be changed after creation. Strings can be declared inside a single qoute('') or double qoute(\"\")\n",
    "    # A list is an ordered collection of items. It is mutable, meaning you can add, remove, or modify elements after creation. Lists are declared using square brackets [] or using list().\n",
    "    # A tuple is an ordered, immutable collection of items. Once created, the elements cannot be modified, added, or removed. Tuples are declared using parantheses () or using tuple().\n",
    "    # A set is an unordered collection of unique elements. It does not allow duplicate values. Sets are declared using curly braces {} or using set()."
   ]
  },
  {
   "cell_type": "code",
   "execution_count": 31,
   "metadata": {},
   "outputs": [
    {
     "name": "stdout",
     "output_type": "stream",
     "text": [
      "{'a', 'people', 'am', 'and', 'to', 'love', 'teacher', 'I', 'teach', 'inspire'}\n"
     ]
    }
   ],
   "source": [
    "\"\"\"\n",
    "I am a teacher and I love to inspire and teach people.\n",
    "How many unique words have been used in the sentence?\n",
    "Use the split methods and set to get the unique words.    \n",
    "\"\"\"\n",
    "\n",
    "sentence = 'I am a teacher and I love to inspire and teach people'\n",
    "sentence_list = sentence.split()\n",
    "sentence_set = set(sentence_list)\n",
    "\n",
    "print(sentence_set)"
   ]
  }
 ],
 "metadata": {
  "kernelspec": {
   "display_name": "Python 3",
   "language": "python",
   "name": "python3"
  },
  "language_info": {
   "codemirror_mode": {
    "name": "ipython",
    "version": 3
   },
   "file_extension": ".py",
   "mimetype": "text/x-python",
   "name": "python",
   "nbconvert_exporter": "python",
   "pygments_lexer": "ipython3",
   "version": "3.10.6"
  }
 },
 "nbformat": 4,
 "nbformat_minor": 2
}
