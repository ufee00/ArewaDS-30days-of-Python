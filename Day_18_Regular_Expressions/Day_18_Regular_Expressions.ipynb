{
 "cells": [
  {
   "cell_type": "markdown",
   "metadata": {},
   "source": [
    "# Regular Expressions\n",
    "# Day 18: 30DaysOfPython Challenge"
   ]
  },
  {
   "cell_type": "markdown",
   "metadata": {},
   "source": [
    "### Exercises: Level 1"
   ]
  },
  {
   "cell_type": "code",
   "execution_count": 7,
   "metadata": {},
   "outputs": [
    {
     "name": "stdout",
     "output_type": "stream",
     "text": [
      "[('love', 6), ('you', 5), ('can', 3), ('I', 2), ('teaching', 2), ('do', 2), ('not', 2), ('what', 2), ('else', 2), ('If', 1), ('Python', 1), ('if', 1), ('something', 1), ('which', 1), ('give', 1), ('all', 1), ('the', 1), ('capabilities', 1), ('to', 1), ('develop', 1), ('an', 1), ('application', 1)]\n"
     ]
    }
   ],
   "source": [
    "# What is the most frequent word in the following paragraph?\n",
    "import re\n",
    "\n",
    "paragraph = 'I love teaching. If you do not love teaching what else can you love. I love Python if you do not love something which can give you all the capabilities to develop an application what else can you love'\n",
    "\n",
    "words = re.findall(r'\\b\\w+\\b', paragraph, re.I)\n",
    "\n",
    "# Count word frequencies using a dictionary\n",
    "word_counts = {}\n",
    "for word in words:\n",
    "    if word in word_counts:\n",
    "        word_counts[word] += 1\n",
    "    else:\n",
    "        word_counts[word] = 1\n",
    "\n",
    "sorted_word_frequencies = sorted(word_counts.items(), key=lambda x: x[1], reverse=True)\n",
    "\n",
    "print(sorted_word_frequencies)"
   ]
  },
  {
   "cell_type": "code",
   "execution_count": 15,
   "metadata": {},
   "outputs": [
    {
     "name": "stdout",
     "output_type": "stream",
     "text": [
      "Extracted Numbers: [-12, -4, -3, -1, 0, 4, 8]\n",
      "Distance between the two furthest particles: 20\n"
     ]
    }
   ],
   "source": [
    "# The position of some particles on the horizontal x-axis are -12, -4, -3 and -1 in the negative direction, 0 at origin, 4 and 8 in the positive direction.\n",
    "# Extract these numbers from this whole text and find the distance between the two furthest particles.\n",
    "\n",
    "text = 'The position of some particles on the horizontal x-axis are -12, -4, -3 and -1 in the negative direction, 0 at origin, 4 and 8 in the positive direction. Extract these numbers from this whole text and find the distance between the two furthest particles'\n",
    "regex_pattern = r'-?\\d+'\n",
    "find_numbers = re.findall(regex_pattern, text)\n",
    "extracted_num = []\n",
    "for num in find_numbers:\n",
    "    extracted_num.append(int(num))\n",
    "\n",
    "distance = extracted_num[-1] - extracted_num[0]\n",
    "print(f'Extracted Numbers: {extracted_num}\\nDistance between the two furthest particles: {distance}')"
   ]
  },
  {
   "cell_type": "markdown",
   "metadata": {},
   "source": [
    "### Exercises: Level 2"
   ]
  },
  {
   "cell_type": "code",
   "execution_count": 19,
   "metadata": {},
   "outputs": [
    {
     "name": "stdout",
     "output_type": "stream",
     "text": [
      "True\n",
      "False\n",
      "True\n"
     ]
    }
   ],
   "source": [
    "# Write a pattern which identifies if a string is a valid python variable\n",
    "\n",
    "def is_valid_python_variable(variable):\n",
    "    pattern = re.compile(r'^[a-zA-Z_][a-zA-Z0-9_]*$')\n",
    "    return bool(pattern.match(variable))\n",
    "\n",
    "variable1 = \"valid_variable\"\n",
    "variable2 = \"1_invalid_variable\"\n",
    "variable3 = \"_another_valid_variable\"\n",
    "\n",
    "print(is_valid_python_variable(variable1))\n",
    "print(is_valid_python_variable(variable2))\n",
    "print(is_valid_python_variable(variable3))"
   ]
  },
  {
   "cell_type": "markdown",
   "metadata": {},
   "source": [
    "### # Exercises: Level 3"
   ]
  },
  {
   "cell_type": "code",
   "execution_count": 29,
   "metadata": {},
   "outputs": [
    {
     "name": "stdout",
     "output_type": "stream",
     "text": [
      "Cleaned Text: I am a teacher and I love teaching There is nothing as more rewarding as educating and empowering people I found teaching more interesting than any other jobs Does this motivate you to be a teacher\n",
      "Three Most Frequent Words: [('I', 3), ('a', 2), ('teacher', 2)]\n"
     ]
    }
   ],
   "source": [
    "# Clean the following text. After cleaning, count three most frequent words in the string.\n",
    "\n",
    "sentence = '''%I $am@% a %tea@cher%, &and& I lo%#ve %tea@ching%;. There $is nothing; &as& mo@re rewarding as educa@ting &and& @emp%o@wering peo@ple. ;I found tea@ching m%o@re interesting tha@n any other %jo@bs. %Do@es thi%s mo@tivate yo@u to be a tea@cher!?'''\n",
    "\n",
    "cleaned_text = re.sub(r'[^a-zA-Z\\s]', '', sentence)\n",
    "\n",
    "words = cleaned_text.split()\n",
    "\n",
    "word_counts = {}\n",
    "for word in words:\n",
    "    if word in word_counts:\n",
    "        word_counts[word] += 1\n",
    "    else:\n",
    "        word_counts[word] = 1\n",
    "\n",
    "sorted_word_frequencies = sorted(word_counts.items(), key=lambda x: x[1], reverse=True)[:3]\n",
    "\n",
    "print(\"Cleaned Text:\", cleaned_text)\n",
    "print(\"Three Most Frequent Words:\", sorted_word_frequencies)"
   ]
  }
 ],
 "metadata": {
  "kernelspec": {
   "display_name": "Python 3",
   "language": "python",
   "name": "python3"
  },
  "language_info": {
   "codemirror_mode": {
    "name": "ipython",
    "version": 3
   },
   "file_extension": ".py",
   "mimetype": "text/x-python",
   "name": "python",
   "nbconvert_exporter": "python",
   "pygments_lexer": "ipython3",
   "version": "3.10.6"
  }
 },
 "nbformat": 4,
 "nbformat_minor": 2
}
