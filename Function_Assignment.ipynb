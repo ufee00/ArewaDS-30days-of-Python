{
 "cells": [
  {
   "cell_type": "markdown",
   "metadata": {},
   "source": [
    "## PYTHON CRASH COURSE"
   ]
  },
  {
   "cell_type": "markdown",
   "metadata": {},
   "source": [
    "### Question 8.1. Message:"
   ]
  },
  {
   "cell_type": "code",
   "execution_count": 1,
   "metadata": {},
   "outputs": [
    {
     "name": "stdout",
     "output_type": "stream",
     "text": [
      "In this chapter, I will learn how to write functions, which are named blocks of code that are designed to do one specific job. When I want to perform a particular task that I have defined in a function, I call the name of the function responsible for it.\n"
     ]
    }
   ],
   "source": [
    "'''\n",
    "Write a function called display_message() \n",
    "that prints one sentence telling everyone what you are \n",
    "learning about in this chapter. Call the\n",
    "function, and make sure the message displays correctly\n",
    "'''\n",
    "\n",
    "def display_message():\n",
    "    \"\"\"Prints a sentence about what is being learned in this chapter.\"\"\"\n",
    "    message = \"In this chapter, I will learn how to write functions, which are named blocks of code that are designed to do one specific job. When I want to perform a particular task that I have defined in a function, I call the name of the function responsible for it.\"\n",
    "    print(message)\n",
    "\n",
    "# Call the function to display the modified message\n",
    "display_message()"
   ]
  },
  {
   "cell_type": "markdown",
   "metadata": {},
   "source": [
    "### Question 8.2. Favorite Book:"
   ]
  },
  {
   "cell_type": "code",
   "execution_count": 2,
   "metadata": {},
   "outputs": [
    {
     "name": "stdout",
     "output_type": "stream",
     "text": [
      "One of my favorite books is Alice in Wonderland.\n"
     ]
    }
   ],
   "source": [
    "''' \n",
    "Write a function called favorite_book() that accepts one\n",
    "parameter, title. The function should print a message, such as One of my\n",
    "favorite books is Alice in Wonderland. Call the function, making sure to\n",
    "include a book title as an argument in the function call.\n",
    "'''\n",
    "\n",
    "\n",
    "def favorite_book(title):\n",
    "    \"\"\"Prints a message about a favorite book.\"\"\"\n",
    "    message = f'One of my favorite books is {title}.'\n",
    "    print(message)\n",
    "\n",
    "# Call the function, providing a book title as an argument\n",
    "favorite_book(\"Alice in Wonderland\")"
   ]
  }
 ],
 "metadata": {
  "kernelspec": {
   "display_name": "Python 3",
   "language": "python",
   "name": "python3"
  },
  "language_info": {
   "codemirror_mode": {
    "name": "ipython",
    "version": 3
   },
   "file_extension": ".py",
   "mimetype": "text/x-python",
   "name": "python",
   "nbconvert_exporter": "python",
   "pygments_lexer": "ipython3",
   "version": "3.10.6"
  }
 },
 "nbformat": 4,
 "nbformat_minor": 2
}
