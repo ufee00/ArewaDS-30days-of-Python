{
 "cells": [
  {
   "cell_type": "markdown",
   "metadata": {},
   "source": [
    "# Classes and Objects\n",
    "# Day 21: 30DaysOfPython Challenge"
   ]
  },
  {
   "cell_type": "markdown",
   "metadata": {},
   "source": [
    "### Exercises: Level 1"
   ]
  },
  {
   "cell_type": "code",
   "execution_count": 3,
   "metadata": {},
   "outputs": [
    {
     "name": "stdout",
     "output_type": "stream",
     "text": [
      "Count: 25\n",
      "Sum:  744\n",
      "Min:  24\n",
      "Max:  38\n",
      "Range:  14\n",
      "Mean:  29.76\n",
      "Median:  29\n",
      "Mode:  {'mode': 26, 'count': 5}\n",
      "Standard Deviation:  4.2747319604079665\n",
      "Variance:  18.273333333333333\n",
      "Frequency Distribution:  {31: 2, 26: 5, 34: 2, 37: 2, 27: 4, 32: 3, 24: 2, 33: 2, 25: 1, 38: 1, 29: 1}\n"
     ]
    }
   ],
   "source": [
    "\"\"\"\n",
    "Python has the module called statistics and we can use this module to do all the statistical calculations.\n",
    "However, to learn how to make function and reuse function let us try to develop a program,\n",
    "which calculates the measure of central tendency of a sample (mean, median, mode) and\n",
    "measure of variability (range, variance, standard deviation). In addition to those measures,\n",
    "find the min, max, count, percentile, and frequency distribution of the sample.\n",
    "You can create a class called Statistics and create all the functions that do statistical calculations as methods for the Statistics class.\n",
    "\"\"\"\n",
    "import statistics\n",
    "\n",
    "class Statistics:\n",
    "    def __init__(self, data):\n",
    "        self.data = data\n",
    "    def count(self):\n",
    "        return len(self.data)\n",
    "\n",
    "    def sum(self):\n",
    "        return sum(self.data)\n",
    "\n",
    "    def min(self):\n",
    "        return min(self.data)\n",
    "\n",
    "    def max(self):\n",
    "        return max(self.data)\n",
    "\n",
    "    def range(self):\n",
    "        return max(self.data) - min(self.data)\n",
    "\n",
    "    def mean(self):\n",
    "        return statistics.mean(self.data)\n",
    "\n",
    "    def median(self):\n",
    "        return statistics.median(self.data)\n",
    "\n",
    "    def mode(self):\n",
    "        mode_value = statistics.mode(self.data)\n",
    "        mode_count = self.data.count(mode_value)\n",
    "        return {'mode': mode_value, 'count': mode_count}\n",
    "\n",
    "    def std(self):\n",
    "        return statistics.stdev(self.data)\n",
    "\n",
    "    def var(self):\n",
    "        return statistics.variance(self.data)\n",
    "\n",
    "    def freq_dist(self):\n",
    "        freq_dict = {}\n",
    "        for value in self.data:\n",
    "            freq_dict[value] = freq_dict.get(value, 0) + 1\n",
    "        return freq_dict\n",
    "\n",
    "\n",
    "ages = [31, 26, 34, 37, 27, 26, 32, 32, 26, 27, 27, 24, 32, 33, 27, 25, 26, 38, 37, 31, 34, 24, 33, 29, 26]\n",
    "\n",
    "data = Statistics(ages)\n",
    "\n",
    "print('Count:', data.count())\n",
    "print('Sum: ', data.sum())\n",
    "print('Min: ', data.min())\n",
    "print('Max: ', data.max())\n",
    "print('Range: ', data.range())\n",
    "print('Mean: ', data.mean())\n",
    "print('Median: ', data.median())\n",
    "print('Mode: ', data.mode())\n",
    "print('Standard Deviation: ', data.std())\n",
    "print('Variance: ', data.var())\n",
    "print('Frequency Distribution: ', data.freq_dist())"
   ]
  },
  {
   "cell_type": "markdown",
   "metadata": {},
   "source": [
    "### Exercises: Level 2"
   ]
  },
  {
   "cell_type": "code",
   "execution_count": 4,
   "metadata": {},
   "outputs": [
    {
     "name": "stdout",
     "output_type": "stream",
     "text": [
      "Umar Faruk's Account Information:\n",
      "Total Income: 600000\n",
      "Total Expense: 173000\n",
      "Account Balance: 427000\n",
      "Income Details:\n",
      "  Salary: 500000\n",
      "  Bonus: 100000\n",
      "Expense Details:\n",
      "  Rent: 150000\n",
      "  Groceries: 3000\n",
      "  Utilities: 20000\n",
      "\n"
     ]
    }
   ],
   "source": [
    "\"\"\"\n",
    "Create a class called PersonAccount. It has firstname, lastname, incomes, expenses properties and\n",
    "it has total_income, total_expense, account_info, add_income, add_expense and account_balance methods.\n",
    "Incomes is a set of incomes and its description.\n",
    "The same goes for expenses.\n",
    "\"\"\"\n",
    "\n",
    "class PersonAccount:\n",
    "    def __init__(self, firstname, lastname):\n",
    "        self.firstname = firstname\n",
    "        self.lastname = lastname\n",
    "        self.incomes = {}\n",
    "        self.expenses = {}\n",
    "\n",
    "    def add_income(self, description, amount):\n",
    "        if description in self.incomes:\n",
    "            self.incomes[description] += amount\n",
    "        else:\n",
    "            self.incomes[description] = amount\n",
    "\n",
    "    def add_expense(self, description, amount):\n",
    "        if description in self.expenses:\n",
    "            self.expenses[description] += amount\n",
    "        else:\n",
    "            self.expenses[description] = amount\n",
    "\n",
    "    def total_income(self):\n",
    "        return sum(self.incomes.values())\n",
    "\n",
    "    def total_expense(self):\n",
    "        return sum(self.expenses.values())\n",
    "\n",
    "    def account_balance(self):\n",
    "        return self.total_income() - self.total_expense()\n",
    "\n",
    "    def account_info(self):\n",
    "        info = f\"{self.firstname} {self.lastname}'s Account Information:\\n\"\n",
    "        info += f\"Total Income: {self.total_income()}\\n\"\n",
    "        info += f\"Total Expense: {self.total_expense()}\\n\"\n",
    "        info += f\"Account Balance: {self.account_balance()}\\n\"\n",
    "        info += \"Income Details:\\n\"\n",
    "        for desc, amount in self.incomes.items():\n",
    "            info += f\"  {desc}: {amount}\\n\"\n",
    "        info += \"Expense Details:\\n\"\n",
    "        for desc, amount in self.expenses.items():\n",
    "            info += f\"  {desc}: {amount}\\n\"\n",
    "        return info\n",
    "\n",
    "\n",
    "person = PersonAccount(\"Umar\", \"Faruk\")\n",
    "\n",
    "person.add_income(\"Salary\", 500000)\n",
    "person.add_income(\"Bonus\", 100000)\n",
    "\n",
    "person.add_expense(\"Rent\", 150000)\n",
    "person.add_expense(\"Groceries\", 3000)\n",
    "person.add_expense(\"Utilities\", 20000)\n",
    "\n",
    "print(person.account_info())"
   ]
  }
 ],
 "metadata": {
  "kernelspec": {
   "display_name": "Python 3",
   "language": "python",
   "name": "python3"
  },
  "language_info": {
   "codemirror_mode": {
    "name": "ipython",
    "version": 3
   },
   "file_extension": ".py",
   "mimetype": "text/x-python",
   "name": "python",
   "nbconvert_exporter": "python",
   "pygments_lexer": "ipython3",
   "version": "3.10.6"
  }
 },
 "nbformat": 4,
 "nbformat_minor": 2
}
