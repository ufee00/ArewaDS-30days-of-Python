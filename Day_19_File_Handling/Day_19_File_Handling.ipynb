{
 "cells": [
  {
   "cell_type": "markdown",
   "metadata": {},
   "source": [
    "# File Handling\n",
    "# Day 19: 30DaysOfPython Challenge"
   ]
  },
  {
   "cell_type": "markdown",
   "metadata": {},
   "source": [
    "### Exercises: Level 1"
   ]
  },
  {
   "cell_type": "code",
   "execution_count": 21,
   "metadata": {},
   "outputs": [
    {
     "name": "stdout",
     "output_type": "stream",
     "text": [
      "Number of lines: 66\n",
      "Number of words: 2400\n"
     ]
    }
   ],
   "source": [
    "# Write a function which count number of lines and number of words in a text:\n",
    "# a) Read obama_speech.txt file and count number of lines and words.\n",
    "\n",
    "def line_count_word_count(textname):\n",
    "    line_count = 0\n",
    "    word_count = 0\n",
    "    with open(textname, 'r') as txt:\n",
    "        for line in txt:\n",
    "            line_count += 1\n",
    "            word_count += len(line.split())\n",
    "        print(f\"Number of lines: {line_count}\")\n",
    "        print(f\"Number of words: {word_count}\")\n",
    "\n",
    "line_count_word_count('obama_speech.txt')"
   ]
  },
  {
   "cell_type": "code",
   "execution_count": 22,
   "metadata": {},
   "outputs": [
    {
     "name": "stdout",
     "output_type": "stream",
     "text": [
      "Number of lines: 83\n",
      "Number of words: 2204\n"
     ]
    }
   ],
   "source": [
    "# b) Read michelle_obama_speech.txt file and count number of lines and words\n",
    "\n",
    "line_count_word_count('michelle_obama_speech.txt')"
   ]
  },
  {
   "cell_type": "code",
   "execution_count": 23,
   "metadata": {},
   "outputs": [
    {
     "name": "stdout",
     "output_type": "stream",
     "text": [
      "Number of lines: 48\n",
      "Number of words: 1259\n"
     ]
    }
   ],
   "source": [
    "# c) Read donald_speech.txt file and count number of lines and words\n",
    "\n",
    "line_count_word_count('donald_speech.txt')"
   ]
  },
  {
   "cell_type": "code",
   "execution_count": 24,
   "metadata": {},
   "outputs": [
    {
     "name": "stdout",
     "output_type": "stream",
     "text": [
      "Number of lines: 33\n",
      "Number of words: 1375\n"
     ]
    }
   ],
   "source": [
    "# d) Read melina_trump_speech.txt file and count number of lines and words\n",
    "\n",
    "line_count_word_count('melina_trump_speech.txt')"
   ]
  },
  {
   "cell_type": "code",
   "execution_count": 18,
   "metadata": {},
   "outputs": [
    {
     "name": "stdout",
     "output_type": "stream",
     "text": [
      "[{'country': 'China', 'population': 1377422166}, {'country': 'India', 'population': 1295210000}, {'country': 'United States of America', 'population': 323947000}, {'country': 'Indonesia', 'population': 258705000}, {'country': 'Brazil', 'population': 206135893}, {'country': 'Pakistan', 'population': 194125062}, {'country': 'Nigeria', 'population': 186988000}, {'country': 'Bangladesh', 'population': 161006790}, {'country': 'Russian Federation', 'population': 146599183}, {'country': 'Japan', 'population': 126960000}]\n"
     ]
    }
   ],
   "source": [
    "import json\n",
    "\n",
    "def most_populated_countries(filename, n):\n",
    "    with open(filename, 'r', encoding='utf-8') as file:\n",
    "        countries_data = json.load(file)\n",
    "\n",
    "    sorted_countries = sorted(countries_data, key=lambda x: x['population'], reverse=True)\n",
    "\n",
    "    # Take the top n countries\n",
    "    top_countries = sorted_countries[:n]\n",
    "\n",
    "    # Create a list of dictionaries with 'country' and 'population'\n",
    "    result = [{'country': country['name'], 'population': country['population']} for country in top_countries]\n",
    "\n",
    "    return result\n",
    "\n",
    "filename = './countries_data.json'\n",
    "\n",
    "result = most_populated_countries(filename, 10)\n",
    "print(result)"
   ]
  },
  {
   "cell_type": "markdown",
   "metadata": {},
   "source": [
    "### Exercises: Level 2"
   ]
  },
  {
   "cell_type": "code",
   "execution_count": 25,
   "metadata": {},
   "outputs": [
    {
     "name": "stdout",
     "output_type": "stream",
     "text": [
      "[('brown', 5), ('the', 4), ('fox', 4), ('dog', 4), ('a', 4), ('quick', 3), ('and', 3), ('jumps', 2), ('over', 2), ('lazy', 2)]\n"
     ]
    }
   ],
   "source": [
    "\"\"\"Find the most common words in the English language. Call the name of your function find_most_common_words, \n",
    "it will take two parameters - a string or a file and a positive integer, indicating the number of words.\n",
    "Your function will return an array of tuples in descending order.\n",
    "\"\"\"\n",
    "import re\n",
    "\n",
    "def find_most_common_words(file_path, num_words):\n",
    "    with open(file_path, 'r', encoding='utf-8') as file:\n",
    "        text = file.read()\n",
    "        \n",
    "    words = re.findall(r'\\b\\w+\\b', text.lower())\n",
    "\n",
    "    word_freq = {}\n",
    "    for word in words:\n",
    "        word_freq[word] = word_freq.get(word, 0) + 1\n",
    "\n",
    "    sorted_words = sorted(word_freq.items(), key=lambda x: x[1], reverse=True)\n",
    "\n",
    "    most_common = sorted_words[:num_words]\n",
    "\n",
    "    return most_common\n",
    "result = find_most_common_words('sample.txt', 10)\n",
    "print(result)"
   ]
  },
  {
   "cell_type": "code",
   "execution_count": 27,
   "metadata": {},
   "outputs": [
    {
     "name": "stdout",
     "output_type": "stream",
     "text": [
      "[('the', 129), ('and', 113), ('of', 81), ('to', 70), ('our', 67), ('we', 62), ('that', 50), ('a', 48), ('is', 36), ('in', 25)]\n"
     ]
    }
   ],
   "source": [
    "\"\"\"\"\n",
    "Use the function, find_most_frequent_words to find: \n",
    "a) The ten most frequent words used in Obama's speech\n",
    "\"\"\"\n",
    "\n",
    "obama_result = find_most_common_words('obama_speech.txt', 10)\n",
    "print(obama_result)"
   ]
  },
  {
   "cell_type": "code",
   "execution_count": 28,
   "metadata": {},
   "outputs": [
    {
     "name": "stdout",
     "output_type": "stream",
     "text": [
      "[('and', 96), ('the', 85), ('to', 84), ('that', 50), ('of', 46), ('a', 41), ('he', 37), ('in', 36), ('my', 28), ('i', 28)]\n"
     ]
    }
   ],
   "source": [
    "# b) The ten most frequent words used in Michelle's speech\n",
    "michelle_result = find_most_common_words('michelle_obama_speech.txt', 10)\n",
    "print(michelle_result)"
   ]
  },
  {
   "cell_type": "code",
   "execution_count": 31,
   "metadata": {},
   "outputs": [
    {
     "name": "stdout",
     "output_type": "stream",
     "text": [
      "[('the', 65), ('and', 59), ('we', 44), ('will', 40), ('of', 38), ('to', 32), ('our', 30), ('is', 20), ('america', 17), ('for', 13)]\n"
     ]
    }
   ],
   "source": [
    "# c) The ten most frequent words used in Trump's speech \n",
    "donald_result = find_most_common_words('donald_speech.txt', 10)\n",
    "print(donald_result)"
   ]
  },
  {
   "cell_type": "code",
   "execution_count": 30,
   "metadata": {},
   "outputs": [
    {
     "name": "stdout",
     "output_type": "stream",
     "text": [
      "[('and', 77), ('to', 55), ('the', 52), ('is', 29), ('i', 28), ('for', 27), ('of', 25), ('that', 24), ('a', 22), ('you', 21)]\n"
     ]
    }
   ],
   "source": [
    "# d) The ten most frequent words used in Melina's speech\n",
    "melina_result = find_most_common_words('melina_trump_speech.txt', 10)\n",
    "print(melina_result)"
   ]
  },
  {
   "cell_type": "code",
   "execution_count": 32,
   "metadata": {},
   "outputs": [
    {
     "name": "stdout",
     "output_type": "stream",
     "text": [
      "Similarity between the two speeches: 72.62%\n"
     ]
    }
   ],
   "source": [
    "\"\"\"\n",
    "Write a python application that checks similarity between two texts.\n",
    "It takes a file or a string as a parameter and it will evaluate the similarity of the two texts.\n",
    "For instance check the similarity between the transcripts of Michelle's and Melina's speech.\n",
    "You may need a couple of functions, function to clean the text(clean_text),\n",
    "function to remove support words(remove_support_words) and finally to check the similarity(check_text_similarity).\n",
    "List of stop words are in the data directory\n",
    "\"\"\"\n",
    "\n",
    "import re\n",
    "from collections import Counter\n",
    "import math\n",
    "\n",
    "def clean_text(text):\n",
    "    cleaned_text = re.sub(r'[^a-zA-Z0-9\\s]', '', text).lower()\n",
    "    return cleaned_text\n",
    "\n",
    "def remove_stop_words(text, stop_words):\n",
    "    words = text.split()\n",
    "    filtered_words = [word for word in words if word not in stop_words]\n",
    "    return ' '.join(filtered_words)\n",
    "\n",
    "def calculate_tf(text):\n",
    "    # Calculate term frequency (TF) for each word in the text\n",
    "    words = text.split()\n",
    "    word_counts = Counter(words)\n",
    "    total_words = len(words)\n",
    "    tf = {word: count / total_words for word, count in word_counts.items()}\n",
    "    return tf\n",
    "\n",
    "def calculate_idf(corpus):\n",
    "    # Calculate inverse document frequency (IDF) for each word in the corpus\n",
    "    document_count = len(corpus)\n",
    "    idf = {}\n",
    "    for document in corpus:\n",
    "        words = set(document.split())\n",
    "        for word in words:\n",
    "            idf[word] = idf.get(word, 0) + 1\n",
    "\n",
    "    idf = {word: math.log(document_count / (count + 1)) for word, count in idf.items()}\n",
    "    return idf\n",
    "\n",
    "def calculate_cosine_similarity(tf1, tf2, idf):\n",
    "    # Calculate cosine similarity between two TF-IDF vectors\n",
    "    intersection = set(tf1.keys()) & set(tf2.keys())\n",
    "    numerator = sum(tf1[word] * tf2[word] * idf[word] ** 2 for word in intersection)\n",
    "    \n",
    "    magnitude1 = math.sqrt(sum((tf1[word] * idf[word]) ** 2 for word in tf1))\n",
    "    magnitude2 = math.sqrt(sum((tf2[word] * idf[word]) ** 2 for word in tf2))\n",
    "    \n",
    "    denominator = magnitude1 * magnitude2\n",
    "    if denominator == 0:\n",
    "        return 0  \n",
    "    \n",
    "    similarity = numerator / denominator\n",
    "    return similarity\n",
    "\n",
    "from stop_words import stop_words\n",
    "\n",
    "with open('michelle_obama_speech.txt', 'r', encoding='utf-8') as file:\n",
    "    michelle_speech = file.read()\n",
    "\n",
    "with open('melina_trump_speech.txt', 'r', encoding='utf-8') as file:\n",
    "    melina_speech = file.read()\n",
    "\n",
    "cleaned_michelle_speech = remove_stop_words(clean_text(michelle_speech), stop_words)\n",
    "cleaned_melina_speech = remove_stop_words(clean_text(melina_speech), stop_words)\n",
    "\n",
    "# Calculate TF-IDF vectors\n",
    "tf_michelle = calculate_tf(cleaned_michelle_speech)\n",
    "tf_melina = calculate_tf(cleaned_melina_speech)\n",
    "\n",
    "idf_corpus = [cleaned_michelle_speech, cleaned_melina_speech]\n",
    "idf = calculate_idf(idf_corpus)\n",
    "\n",
    "# Calculate cosine similarity\n",
    "similarity = calculate_cosine_similarity(tf_michelle, tf_melina, idf)\n",
    "print(f\"Similarity between the two speeches: {similarity:.2%}\")"
   ]
  },
  {
   "cell_type": "code",
   "execution_count": 33,
   "metadata": {},
   "outputs": [
    {
     "name": "stdout",
     "output_type": "stream",
     "text": [
      "Top 10 most repeated words:\n",
      "the: 866\n",
      "and: 793\n",
      "to: 625\n",
      "i: 585\n",
      "of: 535\n",
      "a: 528\n",
      "in: 377\n",
      "is: 375\n",
      "that: 363\n",
      "you: 362\n"
     ]
    }
   ],
   "source": [
    "# Find the 10 most repeated words in the romeo_and_juliet.txt\n",
    "import re\n",
    "from collections import Counter\n",
    "\n",
    "# Read the content of the text file\n",
    "with open('romeo_and_juliet.txt', 'r', encoding='utf-8') as file:\n",
    "    text = file.read()\n",
    "\n",
    "# Clean the text by removing non-alphanumeric characters and converting to lowercase\n",
    "cleaned_text = re.sub(r'[^a-zA-Z\\s]', '', text).lower()\n",
    "\n",
    "# Tokenize the text into words\n",
    "words = cleaned_text.split()\n",
    "\n",
    "# Count the occurrences of each word\n",
    "word_counts = Counter(words)\n",
    "\n",
    "# Get the 10 most common words\n",
    "top_words = word_counts.most_common(10)\n",
    "\n",
    "# Print the result\n",
    "print(\"Top 10 most repeated words:\")\n",
    "for word, count in top_words:\n",
    "    print(f\"{word}: {count}\")"
   ]
  }
 ],
 "metadata": {
  "kernelspec": {
   "display_name": "Python 3",
   "language": "python",
   "name": "python3"
  },
  "language_info": {
   "codemirror_mode": {
    "name": "ipython",
    "version": 3
   },
   "file_extension": ".py",
   "mimetype": "text/x-python",
   "name": "python",
   "nbconvert_exporter": "python",
   "pygments_lexer": "ipython3",
   "version": "3.10.6"
  }
 },
 "nbformat": 4,
 "nbformat_minor": 2
}
