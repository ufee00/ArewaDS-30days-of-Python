{
 "cells": [
  {
   "cell_type": "markdown",
   "metadata": {},
   "source": [
    "# Python Date Time\n",
    "# Day 16: 30DaysOfPython Challenge"
   ]
  },
  {
   "cell_type": "code",
   "execution_count": 8,
   "metadata": {},
   "outputs": [
    {
     "name": "stdout",
     "output_type": "stream",
     "text": [
      "Today is: 16/12/2023 and the current time is: 10:45 timestamp:1702719931.122293\n"
     ]
    }
   ],
   "source": [
    "# Get the current day, month, year, hour, minute and timestamp from datetime module\n",
    "\n",
    "from datetime import datetime\n",
    "now = datetime.now()\n",
    "day = now.day\n",
    "month = now.month\n",
    "year = now.year\n",
    "hour = now.hour\n",
    "minute = now.minute\n",
    "timestamp = now.timestamp()\n",
    "\n",
    "print(f'Today is: {day}/{month}/{year} and the current time is: {hour}:{minute} timestamp:{timestamp}')"
   ]
  },
  {
   "cell_type": "code",
   "execution_count": 10,
   "metadata": {},
   "outputs": [
    {
     "name": "stdout",
     "output_type": "stream",
     "text": [
      "12/16/2023, 10:48:59\n"
     ]
    }
   ],
   "source": [
    "# Format the current date using this format: \"%m/%d/%Y, %H:%M:%S\")\n",
    "\n",
    "from datetime import datetime\n",
    "\n",
    "now = datetime.now()\n",
    "date_time = now.strftime(\"%m/%d/%Y, %H:%M:%S\")\n",
    "print(date_time)"
   ]
  },
  {
   "cell_type": "code",
   "execution_count": 16,
   "metadata": {},
   "outputs": [
    {
     "name": "stdout",
     "output_type": "stream",
     "text": [
      "2019-12-05 00:00:00\n"
     ]
    }
   ],
   "source": [
    "# Today is 5 December, 2019. Change this time string to time.\n",
    "date_string = \"5 December, 2019\"\n",
    "normal_date = datetime.strptime(date_string, \"%d %B, %Y\")\n",
    "print(normal_date)"
   ]
  },
  {
   "cell_type": "code",
   "execution_count": 19,
   "metadata": {},
   "outputs": [
    {
     "name": "stdout",
     "output_type": "stream",
     "text": [
      "Time left for new year:  16 days, 0:00:00\n"
     ]
    }
   ],
   "source": [
    "# Calculate the time difference between now and new year.\n",
    "from datetime import date\n",
    "today = date(year=2023, month=12, day=16)\n",
    "new_year = date(year=2024, month=1, day=1)\n",
    "time_left_for_newyear = new_year - today\n",
    "\n",
    "print('Time left for new year: ', time_left_for_newyear)"
   ]
  },
  {
   "cell_type": "code",
   "execution_count": 24,
   "metadata": {},
   "outputs": [
    {
     "name": "stdout",
     "output_type": "stream",
     "text": [
      "The time difference between 1 January 1970 and now is:  19707 days, 0:00:00\n"
     ]
    }
   ],
   "source": [
    "# Calculate the time difference between 1 January 1970 and now.\n",
    "today = date(year=2023, month=12, day=16)\n",
    "past_year = date(year=1970, month=1, day=1)\n",
    "time_difference = today - past_year\n",
    "\n",
    "print('The time difference between 1 January 1970 and now is: ', time_difference)"
   ]
  },
  {
   "cell_type": "code",
   "execution_count": null,
   "metadata": {},
   "outputs": [],
   "source": []
  }
 ],
 "metadata": {
  "kernelspec": {
   "display_name": "Python 3",
   "language": "python",
   "name": "python3"
  },
  "language_info": {
   "codemirror_mode": {
    "name": "ipython",
    "version": 3
   },
   "file_extension": ".py",
   "mimetype": "text/x-python",
   "name": "python",
   "nbconvert_exporter": "python",
   "pygments_lexer": "ipython3",
   "version": "3.10.6"
  }
 },
 "nbformat": 4,
 "nbformat_minor": 2
}
