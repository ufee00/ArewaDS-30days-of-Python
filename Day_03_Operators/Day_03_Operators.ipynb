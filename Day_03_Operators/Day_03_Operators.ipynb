{
 "cells": [
  {
   "cell_type": "markdown",
   "metadata": {},
   "source": [
    "# Operators\n",
    "# Day 3: 30DaysOfPython Challenge\n",
    "# Exercises"
   ]
  },
  {
   "cell_type": "code",
   "execution_count": 1,
   "metadata": {},
   "outputs": [],
   "source": [
    "# Variable declaration\n",
    "age = 20\n",
    "height = 2.5\n",
    "complex_num = 2 + 5j"
   ]
  },
  {
   "cell_type": "code",
   "execution_count": 2,
   "metadata": {},
   "outputs": [
    {
     "name": "stdout",
     "output_type": "stream",
     "text": [
      "The area of the triangle is  12\n"
     ]
    }
   ],
   "source": [
    "# Calculating area of a triangle \n",
    "base = int(input('Enter base: '))\n",
    "height = int(input('Enter height: '))\n",
    "area_tri = 0.5 * base * height\n",
    "print('The area of the triangle is ', int(area_tri))"
   ]
  },
  {
   "cell_type": "code",
   "execution_count": 3,
   "metadata": {},
   "outputs": [
    {
     "name": "stdout",
     "output_type": "stream",
     "text": [
      "The perimeter of the triangle is  10\n"
     ]
    }
   ],
   "source": [
    "# Calculating perimeter of a triangle\n",
    "a = int(input('Enter side a: '))\n",
    "b = int(input('Enter side b: '))\n",
    "c = int(input('Enter side c: '))\n",
    "perimeter_tri = a + b + c\n",
    "print('The perimeter of the triangle is ', perimeter_tri)"
   ]
  },
  {
   "cell_type": "code",
   "execution_count": 5,
   "metadata": {},
   "outputs": [
    {
     "name": "stdout",
     "output_type": "stream",
     "text": [
      "The area of the rectangle is  6\n",
      "The perimeter of the rectangle is  10\n"
     ]
    }
   ],
   "source": [
    "# Calculating area and perimeter of a rectangle\n",
    "lenght = int(input('Enter the lenght: '))\n",
    "width = int(input('Enter width: '))\n",
    "area_rec = lenght * width\n",
    "print('The area of the rectangle is ', area_rec)\n",
    "\n",
    "perimeter_rec = 2 * (lenght + width)\n",
    "print('The perimeter of the rectangle is ', perimeter_rec)\n"
   ]
  },
  {
   "cell_type": "code",
   "execution_count": 7,
   "metadata": {},
   "outputs": [
    {
     "name": "stdout",
     "output_type": "stream",
     "text": [
      "The area of the circle is  12.56 and the circumference is  12.56\n"
     ]
    }
   ],
   "source": [
    "# Calculating area and circumference of a circle\n",
    "pi = 3.14\n",
    "radius = int(input('Enter the radius: '))\n",
    "area_circle = pi * radius**2\n",
    "circum_circle = 2 * pi * radius\n",
    "print('The area of the circle is ',area_circle,'and the circumference is ',circum_circle)"
   ]
  },
  {
   "cell_type": "code",
   "execution_count": 8,
   "metadata": {},
   "outputs": [
    {
     "name": "stdout",
     "output_type": "stream",
     "text": [
      "Slope: 2\n",
      "X-Intercept: 1.0\n",
      "Y-Intercept: -2\n"
     ]
    }
   ],
   "source": [
    "# Given equation: y = 2x - 2\n",
    "# Calculate slope\n",
    "first_slope = 2\n",
    "# Calculating x-intercept (when y = 0)\n",
    "x_intercept = 2 / first_slope\n",
    "# Calculating y-intercept (when x = 0)\n",
    "y_intercept = -2\n",
    "print(\"Slope:\", first_slope)\n",
    "print(\"X-Intercept:\", x_intercept)\n",
    "print(\"Y-Intercept:\", y_intercept)"
   ]
  },
  {
   "cell_type": "code",
   "execution_count": 9,
   "metadata": {},
   "outputs": [
    {
     "name": "stdout",
     "output_type": "stream",
     "text": [
      "Slope (m): 2.0\n",
      "Euclidean Distance: 8.94427190999916\n"
     ]
    }
   ],
   "source": [
    "# Given the Points\n",
    "x1, y1 = 2, 2\n",
    "x2, y2 = 6, 10\n",
    "# Calculating the slope\n",
    "second_slope = (y2 - y1) / (x2 - x1)\n",
    "# Calculating the Euclidean distance\n",
    "distance = ((x2 - x1)**2 + (y2 - y1)**2)**0.5\n",
    "print(\"Slope (m):\", second_slope)\n",
    "print(\"Euclidean Distance:\", distance)"
   ]
  },
  {
   "cell_type": "code",
   "execution_count": 10,
   "metadata": {},
   "outputs": [
    {
     "name": "stdout",
     "output_type": "stream",
     "text": [
      "first_slope == second_slope:  True\n"
     ]
    }
   ],
   "source": [
    "# Comparing the first and second slope\n",
    "print('first_slope == second_slope: ',first_slope == second_slope)"
   ]
  },
  {
   "cell_type": "code",
   "execution_count": 11,
   "metadata": {},
   "outputs": [
    {
     "name": "stdout",
     "output_type": "stream",
     "text": [
      "Value of y is  25\n"
     ]
    }
   ],
   "source": [
    "# Calculating the value of y (y = x^2 + 6x + 9)\n",
    "x = int(input('Enter value of x: '))\n",
    "y = (x**2) + (6*x) + 9\n",
    "print('Value of y is ', y)"
   ]
  },
  {
   "cell_type": "code",
   "execution_count": 12,
   "metadata": {},
   "outputs": [
    {
     "name": "stdout",
     "output_type": "stream",
     "text": [
      "False\n"
     ]
    }
   ],
   "source": [
    "# Finding the length of 'python' and 'dragon' and making a falsy comparison statement.\n",
    "print(len('python') != len('dragon'))"
   ]
  },
  {
   "cell_type": "code",
   "execution_count": 14,
   "metadata": {},
   "outputs": [
    {
     "name": "stdout",
     "output_type": "stream",
     "text": [
      "True\n"
     ]
    }
   ],
   "source": [
    "# Using AND operator to check if 'on' is found in both 'python' and 'dragon'\n",
    "print('on' in 'python' and 'on' in 'dragon')"
   ]
  },
  {
   "cell_type": "code",
   "execution_count": 15,
   "metadata": {},
   "outputs": [
    {
     "name": "stdout",
     "output_type": "stream",
     "text": [
      "True\n"
     ]
    }
   ],
   "source": [
    "# \"I hope this course is not full of jargon\". Use in operator to check if jargon is in the sentence.\n",
    "print(\"jargon\" in \"I hope this course is not full of jargon\")"
   ]
  },
  {
   "cell_type": "code",
   "execution_count": 16,
   "metadata": {},
   "outputs": [
    {
     "name": "stdout",
     "output_type": "stream",
     "text": [
      "False\n"
     ]
    }
   ],
   "source": [
    "# There is no 'on' in both dragon and python\n",
    "print('on' not in 'dragon'and 'python')"
   ]
  },
  {
   "cell_type": "code",
   "execution_count": 18,
   "metadata": {},
   "outputs": [
    {
     "name": "stdout",
     "output_type": "stream",
     "text": [
      "lenght of 'python' as float = 6.0\n",
      "lenght of 'python' as string = 6\n"
     ]
    }
   ],
   "source": [
    "# Finding the length of the text python and converting the value to float and to string\n",
    "text = len('python')\n",
    "text_float = float(text)\n",
    "text_string = str(text)\n",
    "print(\"lenght of 'python' as float =\",text_float)\n",
    "print(\"lenght of 'python' as string =\",text_string)"
   ]
  },
  {
   "cell_type": "code",
   "execution_count": 22,
   "metadata": {},
   "outputs": [
    {
     "data": {
      "text/plain": [
       "False"
      ]
     },
     "execution_count": 22,
     "metadata": {},
     "output_type": "execute_result"
    }
   ],
   "source": [
    "# Checking if a number is even\n",
    "num = int(input(\"Enter a number: \"))\n",
    "# Check if the number is even\n",
    "num % 2 == 0"
   ]
  },
  {
   "cell_type": "code",
   "execution_count": 23,
   "metadata": {},
   "outputs": [
    {
     "name": "stdout",
     "output_type": "stream",
     "text": [
      "True\n"
     ]
    }
   ],
   "source": [
    "# Checking if the floor division of 7 by 3 is equal to the int converted value of 2.7\n",
    "floor_div = 7 // 3\n",
    "print(floor_div == int(2.7))"
   ]
  },
  {
   "cell_type": "code",
   "execution_count": 24,
   "metadata": {},
   "outputs": [
    {
     "name": "stdout",
     "output_type": "stream",
     "text": [
      "False\n"
     ]
    }
   ],
   "source": [
    "# Checking if type of '10' is equal to type of 10\n",
    "print(type('10') == type(10))"
   ]
  },
  {
   "cell_type": "code",
   "execution_count": 1,
   "metadata": {},
   "outputs": [
    {
     "ename": "ValueError",
     "evalue": "invalid literal for int() with base 10: '9.8'",
     "output_type": "error",
     "traceback": [
      "\u001b[1;31m---------------------------------------------------------------------------\u001b[0m",
      "\u001b[1;31mValueError\u001b[0m                                Traceback (most recent call last)",
      "\u001b[1;32mc:\\Users\\IBRAHIM UMAR FARUK\\Desktop\\30DaysOfPython\\Day_2_Variables_Built_In_Function\\Day_03_Operators.ipynb Cell 19\u001b[0m line \u001b[0;36m2\n\u001b[0;32m      <a href='vscode-notebook-cell:/c%3A/Users/IBRAHIM%20UMAR%20FARUK/Desktop/30DaysOfPython/Day_2_Variables_Built_In_Function/Day_03_Operators.ipynb#X24sZmlsZQ%3D%3D?line=0'>1</a>\u001b[0m \u001b[39m# Checking if int('9.8') is equal to 10\u001b[39;00m\n\u001b[1;32m----> <a href='vscode-notebook-cell:/c%3A/Users/IBRAHIM%20UMAR%20FARUK/Desktop/30DaysOfPython/Day_2_Variables_Built_In_Function/Day_03_Operators.ipynb#X24sZmlsZQ%3D%3D?line=1'>2</a>\u001b[0m \u001b[39mprint\u001b[39m(\u001b[39mint\u001b[39;49m(\u001b[39m'\u001b[39;49m\u001b[39m9.8\u001b[39;49m\u001b[39m'\u001b[39;49m) \u001b[39m==\u001b[39m \u001b[39m10\u001b[39m)\n",
      "\u001b[1;31mValueError\u001b[0m: invalid literal for int() with base 10: '9.8'"
     ]
    }
   ],
   "source": [
    "# Checking if int('9.8') is equal to 10\n",
    "print(int('9.8') == 10)"
   ]
  },
  {
   "cell_type": "code",
   "execution_count": 2,
   "metadata": {},
   "outputs": [
    {
     "name": "stdout",
     "output_type": "stream",
     "text": [
      "Your weekly earning is  1120\n"
     ]
    }
   ],
   "source": [
    "# a script that prompts the user to enter hours and rate per hour. To calculate the pay of the person\n",
    "hours = int(input(\"Enter hours: \"))\n",
    "rate_per_hour = int(input(\"Enter rate per hour: \"))\n",
    "weekly_earning = hours * rate_per_hour\n",
    "print('Your weekly earning is ', weekly_earning)"
   ]
  },
  {
   "cell_type": "code",
   "execution_count": 31,
   "metadata": {},
   "outputs": [
    {
     "name": "stdout",
     "output_type": "stream",
     "text": [
      "you have live for  3153600000 seconds\n"
     ]
    }
   ],
   "source": [
    "#  a script that prompts the user to enter number of years, to Calculate the number of seconds a person can live\n",
    "number_of_yrs = int(input(\"Enter number of years you have lived: \"))\n",
    "seconds_in_a_minute = 60\n",
    "minutes_in_an_hour = 60\n",
    "hours_in_a_day = 24\n",
    "days_in_a_year = 365\n",
    "number_of_seconds = number_of_yrs * days_in_a_year * hours_in_a_day * minutes_in_an_hour * seconds_in_a_minute\n",
    "print('you have live for ', number_of_seconds, 'seconds')"
   ]
  },
  {
   "cell_type": "code",
   "execution_count": 32,
   "metadata": {},
   "outputs": [
    {
     "name": "stdout",
     "output_type": "stream",
     "text": [
      "1 1 1 1 1\n",
      "2 1 2 4 8\n",
      "3 1 3 9 27\n",
      "4 1 4 16 64\n",
      "5 1 5 25 125\n"
     ]
    }
   ],
   "source": [
    "# \n",
    "print('1 1 1 1 1')\n",
    "print('2 1 2 4 8')\n",
    "print('3 1 3 9 27')\n",
    "print('4 1 4 16 64')\n",
    "print('5 1 5 25 125')"
   ]
  }
 ],
 "metadata": {
  "kernelspec": {
   "display_name": "Python 3",
   "language": "python",
   "name": "python3"
  },
  "language_info": {
   "codemirror_mode": {
    "name": "ipython",
    "version": 3
   },
   "file_extension": ".py",
   "mimetype": "text/x-python",
   "name": "python",
   "nbconvert_exporter": "python",
   "pygments_lexer": "ipython3",
   "version": "3.10.6"
  }
 },
 "nbformat": 4,
 "nbformat_minor": 2
}
