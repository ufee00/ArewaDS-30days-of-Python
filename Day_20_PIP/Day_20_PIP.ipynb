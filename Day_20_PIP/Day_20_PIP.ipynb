{
 "cells": [
  {
   "cell_type": "markdown",
   "metadata": {},
   "source": [
    "# PIP\n",
    "# Day 20: 30DaysOfPython Challenge"
   ]
  },
  {
   "cell_type": "code",
   "execution_count": 2,
   "metadata": {},
   "outputs": [
    {
     "data": {
      "text/plain": [
       "11"
      ]
     },
     "execution_count": 2,
     "metadata": {},
     "output_type": "execute_result"
    }
   ],
   "source": [
    "from mypackage import arithmetics\n",
    "\n",
    "arithmetics.add_numbers(1, 2, 3, 5)"
   ]
  },
  {
   "cell_type": "code",
   "execution_count": 3,
   "metadata": {},
   "outputs": [
    {
     "data": {
      "text/plain": [
       "'Asabeneh Yetayeh, welcome to 30DaysOfPython Challenge!'"
      ]
     },
     "execution_count": 3,
     "metadata": {},
     "output_type": "execute_result"
    }
   ],
   "source": [
    "from mypackage import greet\n",
    "greet.greet_person('Asabeneh', 'Yetayeh')"
   ]
  },
  {
   "cell_type": "code",
   "execution_count": 12,
   "metadata": {},
   "outputs": [
    {
     "name": "stdout",
     "output_type": "stream",
     "text": [
      "Status code for the romeo_and_juliet_url: 404\n",
      "Top 10 most frequent words:\n",
      "<li><a: 23\n",
      "/>: 18\n",
      "<meta: 13\n",
      "<a: 10\n",
      "<input: 9\n",
      "<li>: 7\n",
      "</li>: 7\n",
      "<link: 6\n",
      "<div: 6\n",
      "of: 5\n"
     ]
    }
   ],
   "source": [
    "# Question 1\n",
    "\n",
    "# Read this url and find the 10 most frequent words. romeo_and_juliet = 'http://www.gutenberg.org/files/1112/1112.txt'\n",
    "\n",
    "import re\n",
    "import requests\n",
    "\n",
    "def get_text_from_url(url):\n",
    "    response = requests.get(url)\n",
    "    return response.text\n",
    "\n",
    "# URL for Romeo and Juliet\n",
    "romeo_and_juliet_url = 'http://www.gutenberg.org/files/1112/1112.txt'\n",
    "\n",
    "resp = requests.get(romeo_and_juliet_url)\n",
    "print(f'Status code for the romeo_and_juliet_url: {resp.status_code}')\n",
    "\n",
    "# Get text content from the URL\n",
    "romeo_and_juliet_text = get_text_from_url(romeo_and_juliet_url)\n",
    "\n",
    "# Cleaning the text by removing non-alphanumeric characters\n",
    "cleaned_text = re.sub(r'[^a-zA-Z\\s]', '', romeo_and_juliet_text, re.I)\n",
    "\n",
    "words = cleaned_text.split()\n",
    "\n",
    "word_counts = {}\n",
    "for word in words:\n",
    "    if word in word_counts:\n",
    "        word_counts[word] += 1\n",
    "    else:\n",
    "        word_counts[word] = 1\n",
    "\n",
    "sorted_words = sorted(word_counts.items(), key=lambda x: x[1], reverse=True)\n",
    "\n",
    "top_words = sorted_words[:10]\n",
    "\n",
    "print(\"Top 10 most frequent words:\")\n",
    "for word, count in top_words:\n",
    "    print(f\"{word}: {count}\")"
   ]
  },
  {
   "cell_type": "code",
   "execution_count": 24,
   "metadata": {},
   "outputs": [
    {
     "name": "stdout",
     "output_type": "stream",
     "text": [
      "There is an issue with the url\n"
     ]
    }
   ],
   "source": [
    "# Question 2\n",
    "\n",
    "# Read the cats API and cats_api = 'https://api.thecatapi.com/v1/breeds' and find :\n",
    "# the min, max, mean, median, standard deviation of cats' weight in metric units.\n",
    "\"\"\"\n",
    "import statistics\n",
    "import requests\n",
    "\n",
    "cats_api = 'https://api.thecatapi.com/v1/breeds'\n",
    "\n",
    "response = requests.get(cats_api)\n",
    "print(f'Status code for the cats_api_url: {response.status_code}')\n",
    "\n",
    "\n",
    "cat_data = response.json()\n",
    "\n",
    "# List to store weights\n",
    "weights = []\n",
    "\n",
    "for cat in cat_data:\n",
    "    # Extract weight information (convert to metric units)\n",
    "    if 'weight' in cat and 'metric' in cat['weight']:\n",
    "        weight = cat['weight']['metric'].split()[0]\n",
    "        weights.append(float(weight))\n",
    "\n",
    "# Statistical calculations for weight\n",
    "weight_min = min(weights)\n",
    "weight_max = max(weights)\n",
    "weight_mean = statistics.mean(weights)\n",
    "weight_median = statistics.median(weights)\n",
    "weight_stdev = statistics.stdev(weights)\n",
    "\n",
    "print(\"Weight Statistics (Metric Units):\")\n",
    "print(f\"Min: {weight_min} kg\")\n",
    "print(f\"Max: {weight_max} kg\")\n",
    "print(f\"Mean: {weight_mean} kg\")\n",
    "print(f\"Median: {weight_median} kg\")\n",
    "print(f\"Standard Deviation: {weight_stdev} kg\")\n",
    "\"\"\"\n",
    "print('There is an issue with the url')\n"
   ]
  },
  {
   "cell_type": "code",
   "execution_count": 25,
   "metadata": {},
   "outputs": [
    {
     "name": "stdout",
     "output_type": "stream",
     "text": [
      "There is an issue with the url\n"
     ]
    }
   ],
   "source": [
    "# Question 2\n",
    "\n",
    "# the min, max, mean, median, standard deviation of cats' lifespan in years.\n",
    "# Ensure the 'cat_data' variable is already defined from the previous question\n",
    "\n",
    "\"\"\"\n",
    "cats_api = 'https://api.thecatapi.com/v1/breeds'\n",
    "response = requests.get(cats_api)\n",
    "cat_data = response.json()\n",
    "\n",
    "# List to store lifespans\n",
    "lifespans = []\n",
    "\n",
    "# Extract relevant information from the existing 'cat_data'\n",
    "for cat in cat_data:\n",
    "    # Extract lifespan information\n",
    "    if 'life_span' in cat:\n",
    "        lifespan = cat['life_span']\n",
    "        # Extract numerical values (considering ranges)\n",
    "        lifespan_values = [float(value) for value in re.findall(r'\\d+', lifespan)]\n",
    "        if lifespan_values:\n",
    "            lifespans.append(statistics.mean(lifespan_values))\n",
    "\n",
    "# Statistical calculations for lifespan\n",
    "lifespan_min = min(lifespans)\n",
    "lifespan_max = max(lifespans)\n",
    "lifespan_mean = statistics.mean(lifespans)\n",
    "lifespan_median = statistics.median(lifespans)\n",
    "lifespan_stdev = statistics.stdev(lifespans)\n",
    "\n",
    "# Display results\n",
    "print(\"\\nLifespan Statistics (Years):\")\n",
    "print(f\"Min: {lifespan_min} years\")\n",
    "print(f\"Max: {lifespan_max} years\")\n",
    "print(f\"Mean: {lifespan_mean} years\")\n",
    "print(f\"Median: {lifespan_median} years\")\n",
    "print(f\"Standard Deviation: {lifespan_stdev} years\")\n",
    "\"\"\"\n",
    "print('There is an issue with the url')"
   ]
  },
  {
   "cell_type": "code",
   "execution_count": 26,
   "metadata": {},
   "outputs": [
    {
     "name": "stdout",
     "output_type": "stream",
     "text": [
      "There is an issue with the url\n"
     ]
    }
   ],
   "source": [
    "# Question 2\n",
    "\n",
    "# Create a frequency table of country and breed of cats\n",
    "\n",
    "\"\"\"\n",
    "cats_api = 'https://api.thecatapi.com/v1/breeds'\n",
    "response = requests.get(cats_api)\n",
    "cat_data = response.json()\n",
    "\n",
    "# Ensure the 'cat_data' variable is already defined from the first question\n",
    "\n",
    "# Dictionary to store country and breed frequencies\n",
    "country_breed_frequency = {}\n",
    "\n",
    "# Extract relevant information from the existing 'cat_data'\n",
    "for cat in cat_data:\n",
    "    # Create frequency table for country and breed\n",
    "    if 'origin' in cat and 'name' in cat:\n",
    "        origin = cat['origin']\n",
    "        breed = cat['name']\n",
    "        country_breed_key = f\"{origin} - {breed}\"\n",
    "\n",
    "        # Update frequency table\n",
    "        country_breed_frequency[country_breed_key] = country_breed_frequency.get(country_breed_key, 0) + 1\n",
    "\n",
    "# Display results\n",
    "print(\"\\nFrequency Table - Country and Breed:\")\n",
    "for key, value in country_breed_frequency.items():\n",
    "    print(f\"{key}: {value}\")\n",
    "\"\"\"\n",
    "print('There is an issue with the url')"
   ]
  },
  {
   "cell_type": "code",
   "execution_count": 27,
   "metadata": {},
   "outputs": [
    {
     "name": "stdout",
     "output_type": "stream",
     "text": [
      "There is an issue with the url\n"
     ]
    }
   ],
   "source": [
    "# Question 3\n",
    "\n",
    "# Read the countries API and find\n",
    "# the 10 largest countries\n",
    "\"\"\"\n",
    "import requests\n",
    "\n",
    "countries_api = 'https://restcountries.com/v3.1/all'\n",
    "\n",
    "response = requests.get(countries_api)\n",
    "\n",
    "# Check if the request was successful (status code 200)\n",
    "if response.status_code == 200:\n",
    "    countries_data = response.json()\n",
    "\n",
    "    # Extract and display information for the 10 largest countries\n",
    "    largest_countries = sorted(countries_data, key=lambda x: x['area'], reverse=True)[:10]\n",
    "\n",
    "    print(\"\\n10 Largest Countries:\")\n",
    "    for country in largest_countries:\n",
    "        print(f\"{country['name']['common']}: {country['area']} sq km\")\n",
    "else:\n",
    "    print(\"Failed to retrieve data from the countries API.\")\n",
    "\"\"\"\n",
    "print('There is an issue with the url')"
   ]
  },
  {
   "cell_type": "code",
   "execution_count": 28,
   "metadata": {},
   "outputs": [
    {
     "name": "stdout",
     "output_type": "stream",
     "text": [
      "There is an issue with the url\n"
     ]
    }
   ],
   "source": [
    "# Question 3\n",
    "\n",
    "# the 10 most spoken languages\n",
    "\"\"\"\n",
    "import requests\n",
    "from collections import Counter\n",
    "\n",
    "countries_api = 'https://restcountries.com/v3.1/all'\n",
    "response = requests.get(countries_api)\n",
    "\n",
    "spoken_languages = []\n",
    "\n",
    "for country in countries_data:\n",
    "    # Extract language information\n",
    "    if 'languages' in country:\n",
    "        languages = country['languages'].values()\n",
    "        spoken_languages.extend(languages)\n",
    "\n",
    "# Create a frequency table for spoken languages\n",
    "spoken_languages_frequency = Counter(spoken_languages)\n",
    "\n",
    "# Display the 10 most spoken languages\n",
    "print(\"\\n10 Most Spoken Languages:\")\n",
    "for language, frequency in spoken_languages_frequency.most_common(10):\n",
    "    print(f\"{language}: {frequency} countries\")\n",
    "\"\"\"\n",
    "print('There is an issue with the url')"
   ]
  },
  {
   "cell_type": "code",
   "execution_count": 29,
   "metadata": {},
   "outputs": [
    {
     "name": "stdout",
     "output_type": "stream",
     "text": [
      "There is an issue with the url\n"
     ]
    }
   ],
   "source": [
    "# Question 3\n",
    "\n",
    "# the total number of languages in the countries API \n",
    "\"\"\"\n",
    "\n",
    "all_languages = []\n",
    "\n",
    "for country in countries_data:\n",
    "    # Extract language information\n",
    "    if 'languages' in country:\n",
    "        languages = country['languages'].values()\n",
    "        all_languages.extend(languages)\n",
    "\n",
    "total_languages = len(set(all_languages))\n",
    "\n",
    "print(f\"\\nTotal Number of Languages: {total_languages}\")\n",
    "\"\"\"\n",
    "print('There is an issue with the url')"
   ]
  }
 ],
 "metadata": {
  "kernelspec": {
   "display_name": "Python 3",
   "language": "python",
   "name": "python3"
  },
  "language_info": {
   "codemirror_mode": {
    "name": "ipython",
    "version": 3
   },
   "file_extension": ".py",
   "mimetype": "text/x-python",
   "name": "python",
   "nbconvert_exporter": "python",
   "pygments_lexer": "ipython3",
   "version": "3.10.6"
  }
 },
 "nbformat": 4,
 "nbformat_minor": 2
}
