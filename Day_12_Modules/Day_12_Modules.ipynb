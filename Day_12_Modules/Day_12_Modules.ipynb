{
 "cells": [
  {
   "cell_type": "markdown",
   "metadata": {},
   "source": [
    "# Modules\n",
    "# Day 12: 30DaysOfPython Challenge"
   ]
  },
  {
   "cell_type": "markdown",
   "metadata": {},
   "source": [
    "### Exercises: Level 1"
   ]
  },
  {
   "cell_type": "code",
   "execution_count": 34,
   "metadata": {},
   "outputs": [
    {
     "name": "stdout",
     "output_type": "stream",
     "text": [
      "Random User ID: Y2HkP4\n"
     ]
    }
   ],
   "source": [
    "# Write a function which generates a six digit/character random_user_id.\n",
    "import random\n",
    "import string\n",
    "\n",
    "def generate_random_user_id():\n",
    "    # Combine digits and letters to create a pool of characters\n",
    "    characters = string.digits + string.ascii_letters\n",
    "    \n",
    "    # Generate a random six-character user ID\n",
    "    user_id = ''.join(random.choices(characters, k=6))\n",
    "    \n",
    "    return user_id\n",
    "\n",
    "# Example usage:\n",
    "random_user_id = generate_random_user_id()\n",
    "print(\"Random User ID:\", random_user_id)"
   ]
  },
  {
   "cell_type": "code",
   "execution_count": 38,
   "metadata": {},
   "outputs": [
    {
     "name": "stdout",
     "output_type": "stream",
     "text": [
      "Generated User IDs: ['wrGnT', 'f4PoB', 'TyiP9', 'DCT49', '1BWuX']\n"
     ]
    }
   ],
   "source": [
    "\"\"\"Modify the previous task. Declare a function named user_id_gen_by_user.\n",
    "It doesn’t take any parameters but it takes two inputs using input().\n",
    "One of the inputs is the number of characters and the second input is the number of IDs which are supposed to be generated.\"\"\"\n",
    "\n",
    "def user_id_gen_by_user():\n",
    "    num_of_char = int(input('Enter the number of characters: '))\n",
    "    num_of_id = int(input('Enter the number of IDs: '))\n",
    "    \n",
    "    user_ids = []\n",
    "    \n",
    "    for i in range(num_of_id):\n",
    "        # Combine digits and letters to create a pool of characters\n",
    "        characters = string.digits + string.ascii_letters\n",
    "    \n",
    "        # Generate a random user ID with the specified number of characters\n",
    "        user_id = ''.join(random.choices(characters, k=num_of_char))\n",
    "        \n",
    "        user_ids.append(user_id)\n",
    "    \n",
    "    return user_ids\n",
    "\n",
    "# Test the function\n",
    "generated_user_ids = user_id_gen_by_user()\n",
    "print(\"Generated User IDs:\", generated_user_ids)"
   ]
  },
  {
   "cell_type": "code",
   "execution_count": 41,
   "metadata": {},
   "outputs": [
    {
     "name": "stdout",
     "output_type": "stream",
     "text": [
      "Generated RGB Color: rgb(109,19,255)\n"
     ]
    }
   ],
   "source": [
    "# Write a function named rgb_color_gen. It will generate rgb colors (3 values ranging from 0 to 255 each).\n",
    "\n",
    "def rgb_color_gen():\n",
    "    # Generate three random values for Red, Green, and Blue components\n",
    "    red = random.randint(0, 255)\n",
    "    green = random.randint(0, 255)\n",
    "    blue = random.randint(0, 255)\n",
    "    \n",
    "    # Return the RGB color string in the specified format\n",
    "    return f\"rgb({red},{green},{blue})\"\n",
    "\n",
    "# Example usage:\n",
    "generated_rgb_color = rgb_color_gen()\n",
    "print(\"Generated RGB Color:\", generated_rgb_color)"
   ]
  },
  {
   "cell_type": "markdown",
   "metadata": {},
   "source": [
    "### Exercises: Level 2"
   ]
  },
  {
   "cell_type": "code",
   "execution_count": 46,
   "metadata": {},
   "outputs": [
    {
     "name": "stdout",
     "output_type": "stream",
     "text": [
      "Generated Hexadecimal Colors: ['#C', '#4', '#6', '#6', '#F']\n"
     ]
    }
   ],
   "source": [
    "\"\"\"Write a function list_of_hexa_colors which returns any number of hexadecimal colors in an array \n",
    "(six hexadecimal numbers written after #. Hexadecimal numeral system is made out of 16 symbols,0-9 and first 6 letters of the alphabet, a-f. \n",
    "Check the task 6 for output examples).\n",
    "\"\"\"\n",
    "\n",
    "def list_of_hexa_colors(num_colors):\n",
    "    hexa_colors = []\n",
    "\n",
    "    for i in range(num_colors):\n",
    "        # Generate six random hexadecimal digits for the color\n",
    "        for i in range(6):\n",
    "            color_code = ''.join(random.choice('0123456789ABCDEF'))\n",
    "        \n",
    "        # Append the color to the list in the specified format\n",
    "        hexa_colors.append(f\"#{color_code}\")\n",
    "\n",
    "    return hexa_colors\n",
    "\n",
    "# Example usage:\n",
    "num_colors_to_generate = 5\n",
    "generated_hexa_colors = list_of_hexa_colors(num_colors_to_generate)\n",
    "print(\"Generated Hexadecimal Colors:\", generated_hexa_colors)"
   ]
  },
  {
   "cell_type": "code",
   "execution_count": 45,
   "metadata": {},
   "outputs": [
    {
     "name": "stdout",
     "output_type": "stream",
     "text": [
      "Generated RGB Colors: [(212, 64, 190), (14, 96, 165), (226, 139, 70), (66, 253, 206), (95, 50, 200)]\n"
     ]
    }
   ],
   "source": [
    "# Write a function list_of_rgb_colors which returns any number of RGB colors in an array.\n",
    "import random\n",
    "\n",
    "def list_of_rgb_colors(num_colors):\n",
    "    color_list = []\n",
    "\n",
    "    for i in range(num_colors):\n",
    "        red = random.randint(0, 255)\n",
    "        green = random.randint(0, 255)\n",
    "        blue = random.randint(0, 255)\n",
    "        \n",
    "        color_list.append((red, green, blue))\n",
    "\n",
    "    return color_list\n",
    "\n",
    "num_colors_to_generate = 5\n",
    "generated_rgb_colors = list_of_rgb_colors(num_colors_to_generate)\n",
    "print(\"Generated RGB Colors:\", generated_rgb_colors)"
   ]
  },
  {
   "cell_type": "code",
   "execution_count": 49,
   "metadata": {},
   "outputs": [
    {
     "name": "stdout",
     "output_type": "stream",
     "text": [
      "Generated Hexadecimal Colors: ['#8', '#B', '#3', '#F', '#D', '#2', '#C', '#4', '#A', '#D', '#7', '#0', '#9', '#3', '#D', '#6', '#6', '#5']\n",
      "Generated RGB Colors: ['rgb(141, 67, 28)', 'rgb(154, 214, 103)', 'rgb(254, 10, 52)']\n"
     ]
    }
   ],
   "source": [
    "# Write a function generate_colors which can generate any number of hexa or rgb colors.\n",
    "\n",
    "def generate_colors(num_colors, color_format='hexa'):\n",
    "    color_list = []\n",
    "\n",
    "    for i in range(num_colors):\n",
    "        if color_format == 'hexa':\n",
    "            # Generate six random hexadecimal digits for the color\n",
    "            for i in range(6):\n",
    "                color_code = ''.join(random.choice('0123456789ABCDEF'))\n",
    "                color_list.append(f\"#{color_code}\")\n",
    "        elif color_format == 'rgb':\n",
    "            # Generate random values for Red, Green, and Blue components\n",
    "            red = random.randint(0, 255)\n",
    "            green = random.randint(0, 255)\n",
    "            blue = random.randint(0, 255)\n",
    "            color_list.append(f'rgb{(red, green, blue)}')\n",
    "        else:\n",
    "            print(\"Invalid color format. Choose 'hexa' or 'rgb'.\")\n",
    "\n",
    "    return color_list\n",
    "\n",
    "# Example usage:\n",
    "num_colors_to_generate = 3\n",
    "generated_hexa_colors = generate_colors(num_colors_to_generate, color_format='hexa')\n",
    "print(\"Generated Hexadecimal Colors:\", generated_hexa_colors)\n",
    "\n",
    "num_colors_to_generate = 3\n",
    "generated_rgb_colors = generate_colors(num_colors_to_generate, color_format='rgb')\n",
    "print(\"Generated RGB Colors:\", generated_rgb_colors)"
   ]
  },
  {
   "cell_type": "markdown",
   "metadata": {},
   "source": [
    "### Exercises: Level 3"
   ]
  },
  {
   "cell_type": "code",
   "execution_count": 50,
   "metadata": {},
   "outputs": [
    {
     "name": "stdout",
     "output_type": "stream",
     "text": [
      "Original List: [1, 2, 3, 4, 5]\n",
      "Shuffled List: [5, 3, 1, 2, 4]\n"
     ]
    }
   ],
   "source": [
    "# Call your function shuffle_list, it takes a list as a parameter and it returns a shuffled list\n",
    "\n",
    "def shuffle_list(input_list):\n",
    "    shuffled_list = input_list.copy()  # Create a copy to avoid modifying the original list\n",
    "    random.shuffle(shuffled_list)\n",
    "    return shuffled_list\n",
    "\n",
    "original_list = [1, 2, 3, 4, 5]\n",
    "shuffled_result = shuffle_list(original_list)\n",
    "print(\"Original List:\", original_list)\n",
    "print(\"Shuffled List:\", shuffled_result)"
   ]
  },
  {
   "cell_type": "code",
   "execution_count": 51,
   "metadata": {},
   "outputs": [
    {
     "name": "stdout",
     "output_type": "stream",
     "text": [
      "Generated Unique Random Numbers: [4, 9, 1, 0, 3, 6, 7]\n"
     ]
    }
   ],
   "source": [
    "# Write a function which returns an array of seven random numbers in a range of 0-9. All the numbers must be unique.\n",
    "\n",
    "def generate_unique_random_numbers():\n",
    "    # Generate a list of unique random numbers\n",
    "    unique_numbers = random.sample(range(10), 7)\n",
    "    return unique_numbers\n",
    "\n",
    "# Example usage:\n",
    "random_numbers = generate_unique_random_numbers()\n",
    "print(\"Generated Unique Random Numbers:\", random_numbers)"
   ]
  }
 ],
 "metadata": {
  "kernelspec": {
   "display_name": "Python 3",
   "language": "python",
   "name": "python3"
  },
  "language_info": {
   "codemirror_mode": {
    "name": "ipython",
    "version": 3
   },
   "file_extension": ".py",
   "mimetype": "text/x-python",
   "name": "python",
   "nbconvert_exporter": "python",
   "pygments_lexer": "ipython3",
   "version": "3.10.6"
  }
 },
 "nbformat": 4,
 "nbformat_minor": 2
}
