{
 "cells": [
  {
   "cell_type": "markdown",
   "metadata": {},
   "source": [
    "# Dictionaries\n",
    "# Day 8: 30DaysOfPython Challenge"
   ]
  },
  {
   "cell_type": "code",
   "execution_count": 1,
   "metadata": {},
   "outputs": [],
   "source": [
    "# Create an empty dictionary called dog\n",
    "dog = {}"
   ]
  },
  {
   "cell_type": "code",
   "execution_count": 2,
   "metadata": {},
   "outputs": [
    {
     "name": "stdout",
     "output_type": "stream",
     "text": [
      "{'name': 'prince', 'color': 'brown', 'breed': 'labrador', 'legs': 4, 'age': 5}\n"
     ]
    }
   ],
   "source": [
    "# Add name, color, breed, legs, age to the dog dictionary\n",
    "dog = {'name':'prince',\n",
    "       'color':'brown',\n",
    "       'breed':'labrador',\n",
    "       'legs':4,\n",
    "       'age':5\n",
    "       }\n",
    "print(dog)"
   ]
  },
  {
   "cell_type": "code",
   "execution_count": 10,
   "metadata": {},
   "outputs": [
    {
     "name": "stdout",
     "output_type": "stream",
     "text": [
      "{'first_name': 'Umar', 'last_name': 'Ibrahim', 'gender': 'Male', 'age': 10, 'marital_status': 'Single', 'skills': ['python', 'django', 'HTML', 'CSS'], 'country': 'Nigeria', 'city': 'Gombe', 'address': 'Pantami'}\n"
     ]
    }
   ],
   "source": [
    "# Create a student dictionary and add first_name, last_name, gender, age, marital status, skills, country, city and address as keys for the dictionary\n",
    "student = {'first_name':'Umar', 'last_name':'Ibrahim', 'gender':'Male', 'age':10, 'marital_status':'Single', 'skills':['python', 'django', 'HTML', 'CSS'], 'country':'Nigeria', 'city':'Gombe', 'address':'Pantami'}\n",
    "print(student)"
   ]
  },
  {
   "cell_type": "code",
   "execution_count": 11,
   "metadata": {},
   "outputs": [
    {
     "name": "stdout",
     "output_type": "stream",
     "text": [
      "9\n"
     ]
    }
   ],
   "source": [
    "# Get the length of the student dictionary\n",
    "print(len(student))"
   ]
  },
  {
   "cell_type": "code",
   "execution_count": 12,
   "metadata": {},
   "outputs": [
    {
     "name": "stdout",
     "output_type": "stream",
     "text": [
      "['python', 'django', 'HTML', 'CSS']\n",
      "<class 'list'>\n"
     ]
    }
   ],
   "source": [
    "# Get the value of skills and check the data type, it should be a list\n",
    "skill_value = student['skills']\n",
    "print(skill_value)\n",
    "print(type(skill_value))"
   ]
  },
  {
   "cell_type": "code",
   "execution_count": 13,
   "metadata": {},
   "outputs": [
    {
     "name": "stdout",
     "output_type": "stream",
     "text": [
      "['python', 'django', 'HTML', 'CSS', 'Javascript']\n"
     ]
    }
   ],
   "source": [
    "# Modify the skills values by adding one or two skills\n",
    "student['skills'].append('Javascript')\n",
    "print(student['skills'])"
   ]
  },
  {
   "cell_type": "code",
   "execution_count": 14,
   "metadata": {},
   "outputs": [
    {
     "name": "stdout",
     "output_type": "stream",
     "text": [
      "The keys in student dictionary:  dict_keys(['first_name', 'last_name', 'gender', 'age', 'marital_status', 'skills', 'country', 'city', 'address'])\n"
     ]
    }
   ],
   "source": [
    "# Get the dictionary keys as a list\n",
    "student_keys = student.keys()\n",
    "print('The keys in student dictionary: ', student_keys)"
   ]
  },
  {
   "cell_type": "code",
   "execution_count": 15,
   "metadata": {},
   "outputs": [
    {
     "name": "stdout",
     "output_type": "stream",
     "text": [
      "The values in student dictionary:  dict_values(['Umar', 'Ibrahim', 'Male', 10, 'Single', ['python', 'django', 'HTML', 'CSS', 'Javascript'], 'Nigeria', 'Gombe', 'Pantami'])\n"
     ]
    }
   ],
   "source": [
    "# Get the dictionary values as a list\n",
    "student_values = student.values()\n",
    "print('The values in student dictionary: ', student_values)"
   ]
  },
  {
   "cell_type": "code",
   "execution_count": 16,
   "metadata": {},
   "outputs": [
    {
     "name": "stdout",
     "output_type": "stream",
     "text": [
      "dict_items([('first_name', 'Umar'), ('last_name', 'Ibrahim'), ('gender', 'Male'), ('age', 10), ('marital_status', 'Single'), ('skills', ['python', 'django', 'HTML', 'CSS', 'Javascript']), ('country', 'Nigeria'), ('city', 'Gombe'), ('address', 'Pantami')])\n"
     ]
    }
   ],
   "source": [
    "# Change the dictionary to a list of tuples using items() method\n",
    "print(student.items())"
   ]
  },
  {
   "cell_type": "code",
   "execution_count": 17,
   "metadata": {},
   "outputs": [
    {
     "data": {
      "text/plain": [
       "10"
      ]
     },
     "execution_count": 17,
     "metadata": {},
     "output_type": "execute_result"
    }
   ],
   "source": [
    "# Delete one of the items in the dictionary\n",
    "student.pop('age')"
   ]
  },
  {
   "cell_type": "code",
   "execution_count": 18,
   "metadata": {},
   "outputs": [
    {
     "name": "stdout",
     "output_type": "stream",
     "text": [
      "{'first_name': 'Umar', 'last_name': 'Ibrahim', 'gender': 'Male', 'marital_status': 'Single', 'skills': ['python', 'django', 'HTML', 'CSS', 'Javascript'], 'country': 'Nigeria', 'city': 'Gombe', 'address': 'Pantami'}\n"
     ]
    }
   ],
   "source": [
    "print(student)"
   ]
  },
  {
   "cell_type": "code",
   "execution_count": 19,
   "metadata": {},
   "outputs": [],
   "source": [
    "# Delete one of the dictionaries\n",
    "del dog"
   ]
  }
 ],
 "metadata": {
  "kernelspec": {
   "display_name": "Python 3",
   "language": "python",
   "name": "python3"
  },
  "language_info": {
   "codemirror_mode": {
    "name": "ipython",
    "version": 3
   },
   "file_extension": ".py",
   "mimetype": "text/x-python",
   "name": "python",
   "nbconvert_exporter": "python",
   "pygments_lexer": "ipython3",
   "version": "3.10.6"
  }
 },
 "nbformat": 4,
 "nbformat_minor": 2
}
