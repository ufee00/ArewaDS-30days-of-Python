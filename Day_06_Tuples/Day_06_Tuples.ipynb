{
 "cells": [
  {
   "cell_type": "markdown",
   "metadata": {},
   "source": [
    "# Tuples\n",
    "# Day 6: 30DaysOfPython Challenge"
   ]
  },
  {
   "cell_type": "markdown",
   "metadata": {},
   "source": [
    "### Exercises: Level 1"
   ]
  },
  {
   "cell_type": "code",
   "execution_count": 21,
   "metadata": {},
   "outputs": [],
   "source": [
    "# Create an empty tuple\n",
    "empyt_tuple = ()"
   ]
  },
  {
   "cell_type": "code",
   "execution_count": 22,
   "metadata": {},
   "outputs": [],
   "source": [
    "# Create a tuple containing names of your sisters and your brothers (imaginary siblings are fine)\n",
    "brothers = ('Aliyu', 'Ahmad', 'Abba', 'sadiq', 'nuhu')\n",
    "sisters = ('Sadiya', 'Jamila', 'Aisha', 'Maryam', 'Talatu')"
   ]
  },
  {
   "cell_type": "code",
   "execution_count": 23,
   "metadata": {},
   "outputs": [],
   "source": [
    "# Join brothers and sisters tuples and assign it to siblings\n",
    "siblings = brothers + sisters"
   ]
  },
  {
   "cell_type": "code",
   "execution_count": 24,
   "metadata": {},
   "outputs": [
    {
     "name": "stdout",
     "output_type": "stream",
     "text": [
      "I have 10 siblings\n"
     ]
    }
   ],
   "source": [
    "# How many siblings do you have?\n",
    "print(f'I have {len(siblings)} siblings')"
   ]
  },
  {
   "cell_type": "code",
   "execution_count": 25,
   "metadata": {},
   "outputs": [
    {
     "name": "stdout",
     "output_type": "stream",
     "text": [
      "My Family Members: ('Aliyu', 'Ahmad', 'Abba', 'sadiq', 'nuhu', 'Sadiya', 'Jamila', 'Aisha', 'Maryam', 'Talatu', 'Usman', 'Rukayya')\n"
     ]
    }
   ],
   "source": [
    "# Modify the siblings tuple and add the name of your father and mother and assign it to family_members\n",
    "parents = ('Usman', 'Rukayya')\n",
    "family_members = siblings + parents\n",
    "print(f'My Family Members: {family_members}')"
   ]
  },
  {
   "cell_type": "markdown",
   "metadata": {},
   "source": [
    "### Exercises: Level 2"
   ]
  },
  {
   "cell_type": "code",
   "execution_count": 26,
   "metadata": {},
   "outputs": [
    {
     "name": "stdout",
     "output_type": "stream",
     "text": [
      "Siblings: ('Aliyu', 'Ahmad', 'Abba', 'sadiq', 'nuhu', 'Sadiya', 'Jamila', 'Aisha', 'Maryam', 'Talatu')\n",
      "Parents: ('Usman', 'Rukayya')\n"
     ]
    }
   ],
   "source": [
    "# Unpack siblings and parents from family_members\n",
    "siblings = family_members[:10]\n",
    "parents = family_members[10:]\n",
    "print(f'Siblings: {siblings}')\n",
    "print(f'Parents: {parents}')"
   ]
  },
  {
   "cell_type": "code",
   "execution_count": 27,
   "metadata": {},
   "outputs": [
    {
     "name": "stdout",
     "output_type": "stream",
     "text": [
      "Food Stuff Tuple: ('Apple', 'Banana', 'Orange', 'Carrot', 'Broccoli', 'Spinach', 'Chicken', 'Beef', 'Eggs')\n"
     ]
    }
   ],
   "source": [
    "# Create fruits, vegetables and animal products tuples. Join the three tuples and assign it to a variable called food_stuff_tp.\n",
    "fruits = ('Apple', 'Banana', 'Orange')\n",
    "vegetables = ('Carrot', 'Broccoli', 'Spinach')\n",
    "animal_products = ('Chicken', 'Beef', 'Eggs')\n",
    "\n",
    "food_stuff_tp = fruits + vegetables + animal_products\n",
    "\n",
    "print(\"Food Stuff Tuple:\", food_stuff_tp)"
   ]
  },
  {
   "cell_type": "code",
   "execution_count": 28,
   "metadata": {},
   "outputs": [],
   "source": [
    "# Change the about food_stuff_tp tuple to a food_stuff_lt list\n",
    "food_stuff_lt = list(food_stuff_tp)"
   ]
  },
  {
   "cell_type": "code",
   "execution_count": 29,
   "metadata": {},
   "outputs": [
    {
     "name": "stdout",
     "output_type": "stream",
     "text": [
      "Middle item from food stuff: Broccoli\n"
     ]
    }
   ],
   "source": [
    "# Slice out the middle item or items from the food_stuff_tp tuple or food_stuff_lt list.\n",
    "middle_item = food_stuff_lt[4]\n",
    "print(f'Middle item from food stuff: {middle_item}')"
   ]
  },
  {
   "cell_type": "code",
   "execution_count": 30,
   "metadata": {},
   "outputs": [
    {
     "name": "stdout",
     "output_type": "stream",
     "text": [
      "The first three items are: ['Apple', 'Banana', 'Orange']\n",
      "The last three items are: ['Chicken', 'Beef', 'Eggs']\n"
     ]
    }
   ],
   "source": [
    "# Slice out the first three items and the last three items from food_staff_lt list\n",
    "first_three_items = food_stuff_lt[:3]\n",
    "last_three_items = food_stuff_lt[-3:]\n",
    "\n",
    "print(f'The first three items are: {first_three_items}')\n",
    "print(f'The last three items are: {last_three_items}')"
   ]
  },
  {
   "cell_type": "code",
   "execution_count": 31,
   "metadata": {},
   "outputs": [],
   "source": [
    "# Delete the food_staff_tp tuple completely\n",
    "del food_stuff_tp"
   ]
  },
  {
   "cell_type": "code",
   "execution_count": 33,
   "metadata": {},
   "outputs": [
    {
     "name": "stdout",
     "output_type": "stream",
     "text": [
      "'Estonia' is a nordic country: False\n",
      "'Iceland' is a nordic country: True\n"
     ]
    }
   ],
   "source": [
    "# Check if an item exists in tuple:\n",
    "    #Check if 'Estonia' is a nordic country\n",
    "    #Check if 'Iceland' is a nordic country\n",
    "        #nordic_countries = ('Denmark', 'Finland','Iceland', 'Norway', 'Sweden')\n",
    "\n",
    "nordic_countries = ('Denmark', 'Finland','Iceland', 'Norway', 'Sweden')\n",
    "estonia_isTrue = 'Estonia' in nordic_countries\n",
    "iceland_isTrue = 'Iceland' in nordic_countries\n",
    "\n",
    "print(f'\\'Estonia\\' is a nordic country: {estonia_isTrue}')\n",
    "print(f'\\'Iceland\\' is a nordic country: {iceland_isTrue}')"
   ]
  }
 ],
 "metadata": {
  "kernelspec": {
   "display_name": "Python 3",
   "language": "python",
   "name": "python3"
  },
  "language_info": {
   "codemirror_mode": {
    "name": "ipython",
    "version": 3
   },
   "file_extension": ".py",
   "mimetype": "text/x-python",
   "name": "python",
   "nbconvert_exporter": "python",
   "pygments_lexer": "ipython3",
   "version": "3.10.6"
  }
 },
 "nbformat": 4,
 "nbformat_minor": 2
}
